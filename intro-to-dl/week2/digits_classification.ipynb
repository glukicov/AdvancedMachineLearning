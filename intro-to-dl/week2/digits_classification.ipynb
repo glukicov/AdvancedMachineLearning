{
 "cells": [
  {
   "cell_type": "markdown",
   "metadata": {
    "slideshow": {
     "slide_type": "slide"
    }
   },
   "source": [
    "# MNIST digits classification with TensorFlow"
   ]
  },
  {
   "cell_type": "markdown",
   "metadata": {},
   "source": [
    "<img src=\"images/mnist_sample.png\" style=\"width:30%\">"
   ]
  },
  {
   "cell_type": "code",
   "execution_count": 20,
   "metadata": {},
   "outputs": [
    {
     "name": "stdout",
     "output_type": "stream",
     "text": [
      "We're using TF 2.0.0\n"
     ]
    }
   ],
   "source": [
    "import numpy as np\n",
    "from sklearn.metrics import accuracy_score\n",
    "from matplotlib import pyplot as plt\n",
    "%matplotlib inline\n",
    "import tensorflow.compat.v1 as tf\n",
    "tf.disable_v2_behavior()\n",
    "print(\"We're using TF\", tf.__version__)\n",
    "\n",
    "import sys\n",
    "sys.path.append(\"../\")\n",
    "import grading\n",
    "\n",
    "import matplotlib_utils\n",
    "from importlib import reload\n",
    "reload(matplotlib_utils)\n",
    "\n",
    "import grading_utils\n",
    "reload(grading_utils)\n",
    "\n",
    "import keras_utils_hse\n",
    "from keras_utils_hse import reset_tf_session"
   ]
  },
  {
   "cell_type": "markdown",
   "metadata": {},
   "source": [
    "# Fill in your Coursera token and email\n",
    "To successfully submit your answers to our grader, please fill in your Coursera submission token and email"
   ]
  },
  {
   "cell_type": "code",
   "execution_count": 2,
   "metadata": {},
   "outputs": [],
   "source": [
    "grader = grading.Grader(assignment_key=\"XtD7ho3TEeiHQBLWejjYAA\", \n",
    "                        all_parts=[\"9XaAS\", \"vmogZ\", \"RMv95\", \"i8bgs\", \"rE763\"])"
   ]
  },
  {
   "cell_type": "code",
   "execution_count": 3,
   "metadata": {},
   "outputs": [],
   "source": [
    "# token expires every 30 min\n",
    "COURSERA_TOKEN = \"DiJFRWdFgrhFWySQ\"\n",
    "COURSERA_EMAIL = \"g.lukicov@ucl.ac.uk\""
   ]
  },
  {
   "cell_type": "markdown",
   "metadata": {},
   "source": [
    "# Look at the data\n",
    "\n",
    "In this task we have 50000 28x28 images of digits from 0 to 9.\n",
    "We will train a classifier on this data."
   ]
  },
  {
   "cell_type": "code",
   "execution_count": 21,
   "metadata": {},
   "outputs": [],
   "source": [
    "import preprocessed_mnist\n",
    "X_train, y_train, X_val, y_val, X_test, y_test = preprocessed_mnist.load_dataset()"
   ]
  },
  {
   "cell_type": "code",
   "execution_count": 22,
   "metadata": {},
   "outputs": [
    {
     "name": "stdout",
     "output_type": "stream",
     "text": [
      "X_train [shape (50000, 28, 28)] sample patch:\n",
      " [[0.         0.29803922 0.96470588 0.98823529 0.43921569]\n",
      " [0.         0.33333333 0.98823529 0.90196078 0.09803922]\n",
      " [0.         0.33333333 0.98823529 0.8745098  0.        ]\n",
      " [0.         0.33333333 0.98823529 0.56862745 0.        ]\n",
      " [0.         0.3372549  0.99215686 0.88235294 0.        ]]\n",
      "A closeup of a sample patch:\n"
     ]
    },
    {
     "data": {
      "image/png": "[encoded data removed]",
      "text/plain": [
       "<Figure size 432x288 with 1 Axes>"
      ]
     },
     "metadata": {
      "needs_background": "light"
     },
     "output_type": "display_data"
    },
    {
     "name": "stdout",
     "output_type": "stream",
     "text": [
      "And the whole sample:\n"
     ]
    },
    {
     "data": {
      "image/png": "[encoded data removed]",
      "text/plain": [
       "<Figure size 432x288 with 1 Axes>"
      ]
     },
     "metadata": {
      "needs_background": "light"
     },
     "output_type": "display_data"
    },
    {
     "name": "stdout",
     "output_type": "stream",
     "text": [
      "y_train [shape (50000,)] 10 samples:\n",
      " [5 0 4 1 9 2 1 3 1 4]\n"
     ]
    }
   ],
   "source": [
    "# X contains rgb values divided by 255\n",
    "print(\"X_train [shape %s] sample patch:\\n\" % (str(X_train.shape)), X_train[1, 15:20, 5:10])\n",
    "print(\"A closeup of a sample patch:\")\n",
    "plt.imshow(X_train[1, 15:20, 5:10], cmap=\"Greys\")\n",
    "plt.show()\n",
    "print(\"And the whole sample:\")\n",
    "plt.imshow(X_train[1], cmap=\"Greys\")\n",
    "plt.show()\n",
    "print(\"y_train [shape %s] 10 samples:\\n\" % (str(y_train.shape)), y_train[:10])"
   ]
  },
  {
   "cell_type": "markdown",
   "metadata": {},
   "source": [
    "# Linear model\n",
    "\n",
    "Your task is to train a linear classifier $\\vec{x} \\rightarrow y$ with SGD using TensorFlow.\n",
    "\n",
    "You will need to calculate a logit (a linear transformation) $z_k$ for each class: \n",
    "$$z_k = \\vec{x} \\cdot \\vec{w_k} + b_k \\quad k = 0..9$$\n",
    "\n",
    "And transform logits $z_k$ to valid probabilities $p_k$ with softmax: \n",
    "$$p_k = \\frac{e^{z_k}}{\\sum_{i=0}^{9}{e^{z_i}}} \\quad k = 0..9$$\n",
    "\n",
    "We will use a cross-entropy loss to train our multi-class classifier:\n",
    "$$\\text{cross-entropy}(y, p) = -\\sum_{k=0}^{9}{\\log(p_k)[y = k]}$$ \n",
    "\n",
    "where \n",
    "$$\n",
    "[x]=\\begin{cases}\n",
    "       1, \\quad \\text{if $x$ is true} \\\\\n",
    "       0, \\quad \\text{otherwise}\n",
    "    \\end{cases}\n",
    "$$\n",
    "\n",
    "Cross-entropy minimization pushes $p_k$ close to 1 when $y = k$, which is what we want.\n",
    "\n",
    "Here's the plan:\n",
    "* Flatten the images (28x28 -> 784) with `X_train.reshape((X_train.shape[0], -1))` to simplify our linear model implementation\n",
    "* Use a matrix placeholder for flattened `X_train`\n",
    "* Convert `y_train` to one-hot encoded vectors that are needed for cross-entropy\n",
    "* Use a shared variable `W` for all weights (a column $\\vec{w_k}$ per class) and `b` for all biases.\n",
    "* Aim for ~0.93 validation accuracy"
   ]
  },
  {
   "cell_type": "code",
   "execution_count": 23,
   "metadata": {},
   "outputs": [
    {
     "name": "stdout",
     "output_type": "stream",
     "text": [
      "(50000, 784)\n",
      "(10000, 784)\n"
     ]
    }
   ],
   "source": [
    "X_train_flat = X_train.reshape((X_train.shape[0], -1))\n",
    "print(X_train_flat.shape)\n",
    "\n",
    "X_val_flat = X_val.reshape((X_val.shape[0], -1))\n",
    "print(X_val_flat.shape)"
   ]
  },
  {
   "cell_type": "code",
   "execution_count": 24,
   "metadata": {},
   "outputs": [
    {
     "name": "stdout",
     "output_type": "stream",
     "text": [
      "(50000, 10)\n",
      "[[0. 0. 0. 0. 0. 1. 0. 0. 0. 0.]\n",
      " [1. 0. 0. 0. 0. 0. 0. 0. 0. 0.]\n",
      " [0. 0. 0. 0. 1. 0. 0. 0. 0. 0.]] [5 0 4]\n"
     ]
    }
   ],
   "source": [
    "import keras\n",
    "\n",
    "y_train_oh = keras.utils.to_categorical(y_train, 10)\n",
    "y_val_oh = keras.utils.to_categorical(y_val, 10)\n",
    "\n",
    "print(y_train_oh.shape)\n",
    "print(y_train_oh[:3], y_train[:3])"
   ]
  },
  {
   "cell_type": "code",
   "execution_count": 25,
   "metadata": {},
   "outputs": [
    {
     "name": "stderr",
     "output_type": "stream",
     "text": [
      "/usr/local/lib/python3.7/site-packages/tensorflow_core/python/client/session.py:1750: UserWarning: An interactive session is already active. This can cause out-of-memory errors in some cases. You must explicitly call `InteractiveSession.close()` to release resources held by the other session(s).\n",
      "  warnings.warn('An interactive session is already active. This can '\n"
     ]
    }
   ],
   "source": [
    "# run this again if you remake your graph\n",
    "# s = reset_tf_session()\n",
    "s = tf.InteractiveSession()"
   ]
  },
  {
   "cell_type": "code",
   "execution_count": 28,
   "metadata": {},
   "outputs": [
    {
     "ename": "ValueError",
     "evalue": "Variable W already exists, disallowed. Did you mean to set reuse=True or reuse=tf.AUTO_REUSE in VarScope? Originally defined at:\n\n  File \"/usr/local/lib/python3.7/site-packages/tensorflow_core/python/framework/ops.py\", line 1751, in __init__\n    self._traceback = tf_stack.extract_stack()\n  File \"/usr/local/lib/python3.7/site-packages/tensorflow_core/python/framework/ops.py\", line 3429, in _create_op_internal\n    op_def=op_def)\n  File \"/usr/local/lib/python3.7/site-packages/tensorflow_core/python/framework/ops.py\", line 3360, in create_op\n    attrs, op_def, compute_device)\n  File \"/usr/local/lib/python3.7/site-packages/tensorflow_core/python/util/deprecation.py\", line 507, in new_func\n    return func(*args, **kwargs)\n  File \"/usr/local/lib/python3.7/site-packages/tensorflow_core/python/framework/op_def_library.py\", line 793, in _apply_op_helper\n    op_def=op_def)\n",
     "output_type": "error",
     "traceback": [
      "\u001b[0;31m---------------------------------------------------------------------------\u001b[0m",
      "\u001b[0;31mValueError\u001b[0m                                Traceback (most recent call last)",
      "\u001b[0;32m<ipython-input-28-e36d2b091514>\u001b[0m in \u001b[0;36m<module>\u001b[0;34m\u001b[0m\n\u001b[1;32m      1\u001b[0m \u001b[0;31m# Model parameters: W and b\u001b[0m\u001b[0;34m\u001b[0m\u001b[0;34m\u001b[0m\u001b[0;34m\u001b[0m\u001b[0m\n\u001b[0;32m----> 2\u001b[0;31m \u001b[0mW\u001b[0m \u001b[0;34m=\u001b[0m \u001b[0mtf\u001b[0m\u001b[0;34m.\u001b[0m\u001b[0mget_variable\u001b[0m\u001b[0;34m(\u001b[0m\u001b[0;34m\"W\"\u001b[0m\u001b[0;34m,\u001b[0m \u001b[0mshape\u001b[0m\u001b[0;34m=\u001b[0m\u001b[0;34m(\u001b[0m\u001b[0;36m784\u001b[0m\u001b[0;34m,\u001b[0m \u001b[0;36m10\u001b[0m\u001b[0;34m)\u001b[0m\u001b[0;34m,\u001b[0m \u001b[0mdtype\u001b[0m\u001b[0;34m=\u001b[0m\u001b[0mtf\u001b[0m\u001b[0;34m.\u001b[0m\u001b[0mfloat32\u001b[0m\u001b[0;34m,\u001b[0m \u001b[0mtrainable\u001b[0m\u001b[0;34m=\u001b[0m\u001b[0;32mTrue\u001b[0m\u001b[0;34m)\u001b[0m \u001b[0;31m### YOUR CODE HERE ### tf.get_variable(...) with shape[0] = 784\u001b[0m\u001b[0;34m\u001b[0m\u001b[0;34m\u001b[0m\u001b[0m\n\u001b[0m\u001b[1;32m      3\u001b[0m \u001b[0mb\u001b[0m \u001b[0;34m=\u001b[0m \u001b[0mtf\u001b[0m\u001b[0;34m.\u001b[0m\u001b[0mget_variable\u001b[0m\u001b[0;34m(\u001b[0m\u001b[0;34m\"b\"\u001b[0m\u001b[0;34m,\u001b[0m \u001b[0mshape\u001b[0m\u001b[0;34m=\u001b[0m\u001b[0;34m(\u001b[0m\u001b[0;36m1\u001b[0m\u001b[0;34m,\u001b[0m \u001b[0;36m10\u001b[0m\u001b[0;34m)\u001b[0m\u001b[0;34m,\u001b[0m \u001b[0mdtype\u001b[0m\u001b[0;34m=\u001b[0m\u001b[0mtf\u001b[0m\u001b[0;34m.\u001b[0m\u001b[0mfloat32\u001b[0m\u001b[0;34m,\u001b[0m \u001b[0mtrainable\u001b[0m\u001b[0;34m=\u001b[0m\u001b[0;32mTrue\u001b[0m\u001b[0;34m)\u001b[0m \u001b[0;31m### YOUR CODE HERE ### tf.get_variable(...)\u001b[0m\u001b[0;34m\u001b[0m\u001b[0;34m\u001b[0m\u001b[0m\n",
      "\u001b[0;32m/usr/local/lib/python3.7/site-packages/tensorflow_core/python/ops/variable_scope.py\u001b[0m in \u001b[0;36mget_variable\u001b[0;34m(name, shape, dtype, initializer, regularizer, trainable, collections, caching_device, partitioner, validate_shape, use_resource, custom_getter, constraint, synchronization, aggregation)\u001b[0m\n\u001b[1;32m   1502\u001b[0m       \u001b[0mconstraint\u001b[0m\u001b[0;34m=\u001b[0m\u001b[0mconstraint\u001b[0m\u001b[0;34m,\u001b[0m\u001b[0;34m\u001b[0m\u001b[0;34m\u001b[0m\u001b[0m\n\u001b[1;32m   1503\u001b[0m       \u001b[0msynchronization\u001b[0m\u001b[0;34m=\u001b[0m\u001b[0msynchronization\u001b[0m\u001b[0;34m,\u001b[0m\u001b[0;34m\u001b[0m\u001b[0;34m\u001b[0m\u001b[0m\n\u001b[0;32m-> 1504\u001b[0;31m       aggregation=aggregation)\n\u001b[0m\u001b[1;32m   1505\u001b[0m \u001b[0;34m\u001b[0m\u001b[0m\n\u001b[1;32m   1506\u001b[0m \u001b[0;34m\u001b[0m\u001b[0m\n",
      "\u001b[0;32m/usr/local/lib/python3.7/site-packages/tensorflow_core/python/ops/variable_scope.py\u001b[0m in \u001b[0;36mget_variable\u001b[0;34m(self, var_store, name, shape, dtype, initializer, regularizer, reuse, trainable, collections, caching_device, partitioner, validate_shape, use_resource, custom_getter, constraint, synchronization, aggregation)\u001b[0m\n\u001b[1;32m   1245\u001b[0m           \u001b[0mconstraint\u001b[0m\u001b[0;34m=\u001b[0m\u001b[0mconstraint\u001b[0m\u001b[0;34m,\u001b[0m\u001b[0;34m\u001b[0m\u001b[0;34m\u001b[0m\u001b[0m\n\u001b[1;32m   1246\u001b[0m           \u001b[0msynchronization\u001b[0m\u001b[0;34m=\u001b[0m\u001b[0msynchronization\u001b[0m\u001b[0;34m,\u001b[0m\u001b[0;34m\u001b[0m\u001b[0;34m\u001b[0m\u001b[0m\n\u001b[0;32m-> 1247\u001b[0;31m           aggregation=aggregation)\n\u001b[0m\u001b[1;32m   1248\u001b[0m \u001b[0;34m\u001b[0m\u001b[0m\n\u001b[1;32m   1249\u001b[0m   def _get_partitioned_variable(self,\n",
      "\u001b[0;32m/usr/local/lib/python3.7/site-packages/tensorflow_core/python/ops/variable_scope.py\u001b[0m in \u001b[0;36mget_variable\u001b[0;34m(self, name, shape, dtype, initializer, regularizer, reuse, trainable, collections, caching_device, partitioner, validate_shape, use_resource, custom_getter, constraint, synchronization, aggregation)\u001b[0m\n\u001b[1;32m    565\u001b[0m           \u001b[0mconstraint\u001b[0m\u001b[0;34m=\u001b[0m\u001b[0mconstraint\u001b[0m\u001b[0;34m,\u001b[0m\u001b[0;34m\u001b[0m\u001b[0;34m\u001b[0m\u001b[0m\n\u001b[1;32m    566\u001b[0m           \u001b[0msynchronization\u001b[0m\u001b[0;34m=\u001b[0m\u001b[0msynchronization\u001b[0m\u001b[0;34m,\u001b[0m\u001b[0;34m\u001b[0m\u001b[0;34m\u001b[0m\u001b[0m\n\u001b[0;32m--> 567\u001b[0;31m           aggregation=aggregation)\n\u001b[0m\u001b[1;32m    568\u001b[0m \u001b[0;34m\u001b[0m\u001b[0m\n\u001b[1;32m    569\u001b[0m   def _get_partitioned_variable(self,\n",
      "\u001b[0;32m/usr/local/lib/python3.7/site-packages/tensorflow_core/python/ops/variable_scope.py\u001b[0m in \u001b[0;36m_true_getter\u001b[0;34m(name, shape, dtype, initializer, regularizer, reuse, trainable, collections, caching_device, partitioner, validate_shape, use_resource, constraint, synchronization, aggregation)\u001b[0m\n\u001b[1;32m    517\u001b[0m           \u001b[0mconstraint\u001b[0m\u001b[0;34m=\u001b[0m\u001b[0mconstraint\u001b[0m\u001b[0;34m,\u001b[0m\u001b[0;34m\u001b[0m\u001b[0;34m\u001b[0m\u001b[0m\n\u001b[1;32m    518\u001b[0m           \u001b[0msynchronization\u001b[0m\u001b[0;34m=\u001b[0m\u001b[0msynchronization\u001b[0m\u001b[0;34m,\u001b[0m\u001b[0;34m\u001b[0m\u001b[0;34m\u001b[0m\u001b[0m\n\u001b[0;32m--> 519\u001b[0;31m           aggregation=aggregation)\n\u001b[0m\u001b[1;32m    520\u001b[0m \u001b[0;34m\u001b[0m\u001b[0m\n\u001b[1;32m    521\u001b[0m     synchronization, aggregation, trainable = (\n",
      "\u001b[0;32m/usr/local/lib/python3.7/site-packages/tensorflow_core/python/ops/variable_scope.py\u001b[0m in \u001b[0;36m_get_single_variable\u001b[0;34m(self, name, shape, dtype, initializer, regularizer, partition_info, reuse, trainable, collections, caching_device, validate_shape, use_resource, constraint, synchronization, aggregation)\u001b[0m\n\u001b[1;32m    866\u001b[0m         \u001b[0mtb\u001b[0m \u001b[0;34m=\u001b[0m \u001b[0;34m[\u001b[0m\u001b[0mx\u001b[0m \u001b[0;32mfor\u001b[0m \u001b[0mx\u001b[0m \u001b[0;32min\u001b[0m \u001b[0mtb\u001b[0m \u001b[0;32mif\u001b[0m \u001b[0;34m\"tensorflow/python\"\u001b[0m \u001b[0;32mnot\u001b[0m \u001b[0;32min\u001b[0m \u001b[0mx\u001b[0m\u001b[0;34m[\u001b[0m\u001b[0;36m0\u001b[0m\u001b[0;34m]\u001b[0m\u001b[0;34m]\u001b[0m\u001b[0;34m[\u001b[0m\u001b[0;34m:\u001b[0m\u001b[0;36m5\u001b[0m\u001b[0;34m]\u001b[0m\u001b[0;34m\u001b[0m\u001b[0;34m\u001b[0m\u001b[0m\n\u001b[1;32m    867\u001b[0m         raise ValueError(\"%s Originally defined at:\\n\\n%s\" %\n\u001b[0;32m--> 868\u001b[0;31m                          (err_msg, \"\".join(traceback.format_list(tb))))\n\u001b[0m\u001b[1;32m    869\u001b[0m       \u001b[0mfound_var\u001b[0m \u001b[0;34m=\u001b[0m \u001b[0mself\u001b[0m\u001b[0;34m.\u001b[0m\u001b[0m_vars\u001b[0m\u001b[0;34m[\u001b[0m\u001b[0mname\u001b[0m\u001b[0;34m]\u001b[0m\u001b[0;34m\u001b[0m\u001b[0;34m\u001b[0m\u001b[0m\n\u001b[1;32m    870\u001b[0m       \u001b[0;32mif\u001b[0m \u001b[0;32mnot\u001b[0m \u001b[0mshape\u001b[0m\u001b[0;34m.\u001b[0m\u001b[0mis_compatible_with\u001b[0m\u001b[0;34m(\u001b[0m\u001b[0mfound_var\u001b[0m\u001b[0;34m.\u001b[0m\u001b[0mget_shape\u001b[0m\u001b[0;34m(\u001b[0m\u001b[0;34m)\u001b[0m\u001b[0;34m)\u001b[0m\u001b[0;34m:\u001b[0m\u001b[0;34m\u001b[0m\u001b[0;34m\u001b[0m\u001b[0m\n",
      "\u001b[0;31mValueError\u001b[0m: Variable W already exists, disallowed. Did you mean to set reuse=True or reuse=tf.AUTO_REUSE in VarScope? Originally defined at:\n\n  File \"/usr/local/lib/python3.7/site-packages/tensorflow_core/python/framework/ops.py\", line 1751, in __init__\n    self._traceback = tf_stack.extract_stack()\n  File \"/usr/local/lib/python3.7/site-packages/tensorflow_core/python/framework/ops.py\", line 3429, in _create_op_internal\n    op_def=op_def)\n  File \"/usr/local/lib/python3.7/site-packages/tensorflow_core/python/framework/ops.py\", line 3360, in create_op\n    attrs, op_def, compute_device)\n  File \"/usr/local/lib/python3.7/site-packages/tensorflow_core/python/util/deprecation.py\", line 507, in new_func\n    return func(*args, **kwargs)\n  File \"/usr/local/lib/python3.7/site-packages/tensorflow_core/python/framework/op_def_library.py\", line 793, in _apply_op_helper\n    op_def=op_def)\n"
     ]
    }
   ],
   "source": [
    "# Model parameters: W and b\n",
    "W = tf.get_variable(\"W\", shape=(784, 10), dtype=tf.float32, trainable=True) ### YOUR CODE HERE ### tf.get_variable(...) with shape[0] = 784\n",
    "b = tf.get_variable(\"b\", shape=(1, 10), dtype=tf.float32, trainable=True) ### YOUR CODE HERE ### tf.get_variable(...)"
   ]
  },
  {
   "cell_type": "code",
   "execution_count": 29,
   "metadata": {},
   "outputs": [],
   "source": [
    "# Placeholders for the input data\n",
    "input_X = tf.placeholder('float32', shape=(None, 784), name=\"X\") ### YOUR CODE HERE ### tf.placeholder(...) for flat X with shape[0] = None for any batch size\n",
    "input_y = tf.placeholder('float32', shape=(None, 10), name=\"y\") ### YOUR CODE HERE ### tf.placeholder(...) for one-hot encoded true labels"
   ]
  },
  {
   "cell_type": "code",
   "execution_count": 30,
   "metadata": {},
   "outputs": [
    {
     "name": "stdout",
     "output_type": "stream",
     "text": [
      "(?, 784)\n",
      "(784, 10)\n"
     ]
    }
   ],
   "source": [
    "print(input_X.shape)\n",
    "print(W.shape)"
   ]
  },
  {
   "cell_type": "code",
   "execution_count": 31,
   "metadata": {},
   "outputs": [],
   "source": [
    "# Compute predictions\n",
    "logits = tf.matmul(input_X, W) + b  ### YOUR CODE HERE ### logits for input_X, resulting shape should be [input_X.shape[0], 10]\n",
    "probas = tf.nn.softmax(logits) ### YOUR CODE HERE ### apply tf.nn.softmax to logits\n",
    "classes = tf.argmax(probas, axis=1) ### YOUR CODE HERE ### apply tf.argmax to find a class index with highest probability\n",
    "\n",
    "# Loss should be a scalar number: average loss over all the objects with tf.reduce_mean().\n",
    "# Use tf.nn.softmax_cross_entropy_with_logits on top of one-hot encoded input_y and logits.\n",
    "# It is identical to calculating cross-entropy on top of probas, but is more numerically friendly (read the docs).\n",
    "loss = tf.reduce_mean(tf.nn.softmax_cross_entropy_with_logits(labels=input_y, logits=logits)) ### YOUR CODE HERE ### cross-entropy loss\n",
    "\n",
    "# Use a default tf.train.AdamOptimizer to get an SGD step\n",
    "step = tf.train.AdamOptimizer(0.01).minimize(loss) ### YOUR CODE HERE ### optimizer step that minimizes the loss"
   ]
  },
  {
   "cell_type": "code",
   "execution_count": 32,
   "metadata": {},
   "outputs": [
    {
     "name": "stdout",
     "output_type": "stream",
     "text": [
      "(?, 10)\n",
      "(?, 10)\n",
      "(?,)\n"
     ]
    },
    {
     "data": {
      "text/plain": [
       "[<tf.Variable 'W:0' shape=(784, 10) dtype=float32_ref>,\n",
       " <tf.Variable 'b:0' shape=(1, 10) dtype=float32_ref>,\n",
       " <tf.Variable 'dense/kernel:0' shape=(784, 256) dtype=float32_ref>,\n",
       " <tf.Variable 'dense/bias:0' shape=(256,) dtype=float32_ref>,\n",
       " <tf.Variable 'dense_1/kernel:0' shape=(256, 256) dtype=float32_ref>,\n",
       " <tf.Variable 'dense_1/bias:0' shape=(256,) dtype=float32_ref>,\n",
       " <tf.Variable 'dense_2/kernel:0' shape=(256, 10) dtype=float32_ref>,\n",
       " <tf.Variable 'dense_2/bias:0' shape=(10,) dtype=float32_ref>,\n",
       " <tf.Variable 'dense_3/kernel:0' shape=(784, 256) dtype=float32_ref>,\n",
       " <tf.Variable 'dense_3/bias:0' shape=(256,) dtype=float32_ref>,\n",
       " <tf.Variable 'dense_4/kernel:0' shape=(256, 256) dtype=float32_ref>,\n",
       " <tf.Variable 'dense_4/bias:0' shape=(256,) dtype=float32_ref>,\n",
       " <tf.Variable 'dense_5/kernel:0' shape=(256, 10) dtype=float32_ref>,\n",
       " <tf.Variable 'dense_5/bias:0' shape=(10,) dtype=float32_ref>]"
      ]
     },
     "execution_count": 32,
     "metadata": {},
     "output_type": "execute_result"
    }
   ],
   "source": [
    "print(logits.shape)\n",
    "print(probas.shape)\n",
    "print(classes.shape)\n",
    "tf.trainable_variables()"
   ]
  },
  {
   "cell_type": "code",
   "execution_count": 33,
   "metadata": {},
   "outputs": [
    {
     "data": {
      "text/html": [
       "<img src=\"data:image/png;base64,iVBORw0KGgoAAAANSUhEUgAAA2AAAAEgCAYAAADSVRDhAAAABHNCSVQICAgIfAhkiAAAAAlwSFlzAAALEgAACxIB0t1%2B/AAAADl0RVh0U29mdHdhcmUAbWF0cGxvdGxpYiB2ZXJzaW9uIDMuMC4xLCBodHRwOi8vbWF0cGxvdGxpYi5vcmcvDW2N/gAAIABJREFUeJzs3XlYVdX6wPHvYVAUBAQnJidARQRRUDFzzkxQnKfSLDSrqzfLyiyv5m24en9500rNtFKznNJMLcc0p1JRjAzRwAFlUgGVUeTAWb8/duw8MaipIPp%2Bnmc/55w9rn3Qc3h513qXQSmlEEIIIYQQQghx11lUdAOEEEIIIYQQ4kEhAZgQQgghhBBClBMJwIQQQgghhBCinEgAJoQQQgghhBDlRAIwIYQQQgghhCgnEoAJIYQQQgghRDmRAEwIIYQQQgghyokEYEIIIYQQQghRTiQAE0IIIYQQQohyIgGYEEIIIYQQQpQTCcCEEEIIIYQQopxIACaEEEIIIYQQ5UQCMCGEEEIIIYQoJxKACSGEEEIIIUQ5kQBMCCGEEEIIIcqJBGBCCCGEEEIIUU4kABNCCCGEEEKIciIBmBBCCCGEEEKUEwnAhBBCCCGEEKKcSAAmhLhlBoOBkydPVnQzhBBCCCEqHQnAhLjHFBQUVHQTbtv9cA9CCFEZKaUwmUwV3QwhRBkkABOiHCUkJDBgwABq166Ns7Mz48ePZ8mSJXTo0IGXXnoJZ2dnpk%2Bfjslk4p133qFBgwbUqVOHJ598koyMDADy8vIYMWIEzs7OODo60qZNGy5cuADAkiVLaNy4MTVq1KBRo0Z89dVXpbblxIkT9OjRAycnJ5o2bcrq1av1bU899RTjxo0jNDSUGjVq0K5dO06dOgVAp06dAGjZsiV2dnasWrWKXbt24e7uzn//%2B1/q1avH008/DcCiRYvw8vLCycmJsLAwkpOT9WsYDAY%2B/PBDGjduTK1atXj11VcxmUzk5%2Bfj5OTEb7/9pu978eJFqlevTmpq6h36SQghxN01c%2BZMPD09qVGjBs2bN2fdunX6tkWLFuHj46NvO3LkCFDydwTA9OnTGTFihH58fHw8BoNB/2NXly5dmDJlCh06dKB69eqcPn2axYsX69do3Lgxn3zyiVn71q9fT0BAAPb29nh6erJlyxa%2B/vprAgMDzfZ7//336du37115j4R4YCkhRLkoKChQ/v7%2B6sUXX1TZ2dnq6tWrau/evWrx4sXK0tJSffjhh8poNKrc3Fz12WefKU9PT3Xq1CmVlZWl%2Bvfvr0aMGKGUUmrBggWqd%2B/eKicnRxUUFKjDhw%2BrjIwMlZ2drWrUqKFOnDihlFIqOTlZRUdHl9iW7Oxs5e7urj7//HNlNBrVkSNHlLOzszp27JhSSqlRo0YpJycndfDgQWU0GtXjjz%2Buhg4dqh8PqLi4OP31jz/%2BqCwtLdWkSZNUXl6eys3NVTt27FDOzs4qMjJS5eXlqfHjx6uOHTuanaNLly4qPT1dnT17Vnl7e6tFixYppZR6/vnn1aRJk/R958yZo3r37n2HfhJCCHH3rV69WiUlJanCwkK1cuVKVb16dZWcnKxWr16tXF1dVUREhDKZTCouLk7Fx8eX%2Bh2hlFJvvvmmeuKJJ/RznzlzRgHKaDQqpZTq3Lmz8vDwUNHR0cpoNKr8/Hz13XffqZMnTyqTyaR27dqlqlWrpiIjI5VSSh08eFDZ29urbdu2qcLCQpWYmKiOHz%2Bu8vLyVM2aNVVMTIx%2BrYCAALVmzZpyfOeEuP9JACZEOfn5559VrVq19C/MIosXL1YeHh5m67p166bmzZunvz5x4oSysrJSRqNRffbZZ6p9%2B/bq119/NTsmOztbOTg4qDVr1qjc3Nwy27Jy5Ur18MMPm60bO3asmj59ulJKC8BGjx6tb/v%2B%2B%2B9V06ZN9dclBWDW1tbq6tWr%2Brrw8HD16quv6q%2BzsrKUlZWVOnPmjH6OzZs369vnzZununXrppRS6sCBA8rDw0OZTCallFKBgYFq1apVZd6TEELcy1q2bKm%2B/fZb9eijj6o5c%2BYU217ad4RSNxeATZ06tczr9%2B3bV7/u2LFj1Ysvvljifs8995x64403lFJKRUdHK0dHR5WXl3dzNymEuCnSBVGIcpKQkECDBg2wsrIqts3Dw8PsdXJyMg0aNNBfN2jQgIKCAi5cuMDIkSPp2bMnw4YNw9XVlUmTJmE0GrG1tWXVqlUsWLAAFxcXQkNDOXHiBAC%2Bvr7Y2dlhZ2fH3r17OXv2LAcPHsTR0VFfvvrqK86fP69fs169evrz6tWrk52dXeb91a5dGxsbm1Lvwc7ODmdnZ5KSkkq87wYNGuhdFNu1a0f16tXZtWsXJ06c4OTJk4SFhZV5fSGEuJd88cUXBAQE6J%2Bx0dHRpKWlkZCQgKenZ7H9y/qOuBl//R7ZvHkzwcHBODk54ejoyKZNm0hLS9OvVVIbAEaNGsXy5ctRSrFs2TKGDBlC1apV/1abhBAlkwBMiHLi4eHBuXPnSixQYTAYzF67urpy9uxZ/fW5c%2BewsrKibt26WFtb8%2BabbxITE8PPP//Md999xxdffAFAz5492b59OykpKTRr1oxnnnkGgGPHjpGdnU12djYdO3bEw8ODzp07c%2BXKFX3Jzs7m448//tv3d6N7yMnJIT09HTc3N31dQkKC2T26urrqr0eNGsWXX37JsmXLGDRokFlwJ4QQ97KzZ8/yzDPPMHfuXNLT07ly5QotWrRAKYWHh4c%2BpvZ6ZX1H2Nrakpubq7%2B%2B/o9lRa7/DL527RoDBw7klVde4cKFC1y5coWQkBCUUvq1SmoDQHBwMFWqVGHv3r0sX76ckSNH3vL9CyHKJgGYEOWkbdu2uLi4MHnyZHJycsjLy%2BOnn34qcd/hw4cze/Zszpw5Q3Z2Nm%2B88QZDhw7FysqKH3/8kd9%2B%2B43CwkLs7e2xtrbGwsKCCxcusH79enJycqhatSp2dnZYWJT8X7x3797ExsaybNkyjEYjRqORQ4cOcfz48Zu6l7p163L69Oky9xk%2BfDiLFy8mKiqKa9eu8cYbb9CuXTsaNmyo7/Pee%2B9x%2BfJlEhIS%2BOCDDxg6dKi%2BbcSIEaxbt44vv/ySJ5988qbaJYQQ94KcnBwMBgO1a9cGYPHixURHRwMwZswYZs2aRWRkJEopTp48ydmzZ8v8jggICGDPnj2cO3eOjIwMZsyYUeb18/PzuXbtGrVr18bKyorNmzezbds2ffvo0aNZvHgxO3bswGQykZSUpPeYAHjyyScZP3481tbWPPzww3f67RHigScBmBDlxNLSko0bN3Ly5Enq16%2BPu7s7q1atKnHf8PBwRo4cSadOnWjUqBE2NjZ89NFHgPaXz0GDBmFvb4%2BPjw%2BdO3dm5MiRmEwm3n//fVxdXXFycmL37t2lZrRq1KjBtm3bWLlyJa6urtSrV4/XXnuNa9eu3dS9TJ8%2BnVGjRuHo6GhWPfF6jzzyCG%2B//TYDBw7ExcWFU6dOsXLlSrN9%2BvbtS2BgIAEBAYSGhjJ69Gh9m4eHB61bt8ZgMNCxY8ebapcQQtwLmjdvzssvv0z79u2pW7cuv/32Gx06dABg8ODBTJkyhccff5waNWrQr18/Ll26VOZ3RI8ePRg6dCj%2B/v4EBgbSu3fvMq9fo0YNPvzwQ4YMGULNmjVZvny5WTfutm3bsnjxYl566SUcHBzo3LmzWY%2BFkSNHEh0dbVZ5UQhx5xhUUT5aCCHKkcFgIC4uDi8vr1L3CQ8Px9XVlXfeeaccWyaEEA%2B2q1evUqdOHY4cOYK3t3dFN0eI%2B87fG%2BkphBB3WXx8PN988w2//PJLRTdFCCEeKB9//DFt2rSR4EuIu0QCMCHEPWfq1KnMnj2b119/nUaNGlV0c4QQ4oHRsGFDlFJ8%2B%2B23Fd0UIe5b0gVRCCGEEEIIIcqJFOEQQgghhBBCiHIiAZgQQgghhBBClBMZA1bJ1KpVy2weJSGEqCzi4%2BNJS0ur6GaUK/nMFkJUZg/i53Z5kACskmnYsCGHDx%2Bu6GYIIcQtCwoKqugmlDv5zBZCVGYP4ud2eZAuiEIIIYQQQghRTiQAuwO2bNlC06ZN8fLyYubMmcW2L1myhNq1axMQEEBAQACffvqpvm3p0qV4e3vj7e3N0qVLy7PZQgghhBBCiHImXRBvU2FhIePGjWP79u24u7vTpk0bwsLCaN68udl%2BQ4cOZe7cuWbrLl26xL///W8OHz6MwWAgMDCQsLAwatasWZ63IIQQQgghhCgnEoDdpoiICLy8vGjcuDEAw4YNY/369cUCsJJs3bqVHj164OTkBECPHj3YsmULw4cPv6ttFvcOo9FIYmIieXl5Fd0UIe4YGxsb3N3dsba2ruimCCGEEPccCcBuU1JSEh4eHvprd3d3Dh48WGy/tWvXsmfPHpo0acLs2bPx8PAo8dikpKRyabe4NyQmJlKjRg0aNmyIwWCo6OYIcduUUqSnp5OYmEijRo0qujlCCCHEPUfGgJWDPn36EB8fz9GjR%2BnRowejRo26peMXLlxIUFAQQUFBpKam3qVWioqQl5eHs7OzBF/ivmEwGHB2dpasrhBCCFEKyYDdJjc3NxISEvTXiYmJuLm5me3j7OysPx8zZgyTJk3Sj921a5fZsV26dCl2jbFjxzJ27FgAgurWvYOtF/cCCb7E/Ub%2BTQshRCVhMsHly5CWBqmp5o8y/9ddIxmw29SmTRvi4uI4c%2BYM%2Bfn5rFy5krCwMLN9UlJS9OcbNmzAx8cHgJ49e7Jt2zYuX77M5cuX2bZtGz179iz7ghcvQmHhHb8P8WC6cuUK8%2BfP/1vHhoSEcOXKlb997RkzZuDl5UXTpk3ZunVrifs88cQTNG3alBYtWhAeHo7RaARg/fr1%2BPv7ExAQQFBQEPv27dOPmTRpEr6%2Bvvj4%2BPDCCy%2BglCI3N5fQ0FCaNWuGr68vkydP1vd///33ad68Of7%2B/nTv3p2zZ88CEBUVRfv27fH19cXf359Vq1YVa98LL7yAnZ2d/nrBggX4%2BfkREBDAww8/TExMDKBNZFmtWjW9Eupzzz2nHzNlyhQ8PDzMzgOwZ88eWrdujZWVFWvWrDHbdu7cOR599FF8fHxo3rw58fHxAHTs2FG/hqurK/369dOP2bVrFwEBAfj6%2BtK5c2cAfv/9d33/gIAA7O3tmTNnjn7/wcHB%2BnscEREBQEZGBn369KFly5b4%2BvqyePHiEn92QgghboNScOkSnDwJZ85AYiJcuKCty8qCvDzt98GcHIiJgc2b4ZNP4I034Ikn4OGHoX59cHIqfalZE6ytoVYtaNYMOnaE/v1h7FjtPO%2B/X9Hvwv1Lidv2/fffK29vb9W4cWP1zjvvKKWUmjp1qlq/fr1SSqnJkyer5s2bK39/f9WlSxd1/Phx/djPPvtMeXp6Kk9PT/X555/f8FqBoNSVK3fnRkS5i4mJqdDrnzlzRvn6%2Bpa4zWg03rXrHjt2TPn7%2B6u8vDx1%2BvRp1bhxY1VQUFBsv%2B%2B//16ZTCZlMpnUsGHD1Pz585VSSmVlZSmTyaSUUurXX39VTZs2VUop9dNPP6mHHnpIFRQUqIKCAhUcHKx%2B/PFHlZOTo3bu3KmUUuratWvq4YcfVps2bVJKKbVz506Vk5OjlFJq/vz5asiQIUoppX7//XcVGxurlFIqKSlJ1atXT12%2BfFlv26FDh9SIESOUra2tvi4jI0N/vn79etWzZ0%2BlVNnv8/79%2B1VycrLZeYqO%2BfXXX9XIkSPV119/bbatc%2BfOatu2bfp7UdT%2B6w0YMEAtXbpUKaXU5cuXlY%2BPjzp79qxSSqkLFy4U27%2BgoEDVrVtXxcfHK6WU6tGjh/4eff/996pz585KKaXeffddNWnSJKWUUhcvXlQ1a9ZU165dK3a%2Bkv5tBwYGlvge3M8exHsWQvwhN1epo0eV2rdPqR9/VGrbNqW%2B/16pb79VavVqpb76SqnPP1dqxgylXnhBqUGDlHroIaUaNVKqalWltDDs7i%2BOjkp5eSnVvr1SffooFR6u1KRJSr33nnyG3SXSBfEOCAkJISQkxGzdW2%2B9pT%2BfMWMGM2bMKPHY8PBwwsPDb%2B2CGRng4HDL7RTiryZPnsypU6cICAigR48ehIaGMnXqVGrWrMmJEyeIjY2lX79%2BJCQkkJeXx4QJE/TusA0bNuTw4cNkZ2fTq1cvHn74YX7%2B%2BWfc3NxYv3491apVK/W669evZ9iwYVStWpVGjRrh5eVFREQE7du3N9vv%2Bv9Xbdu2JTExEcAsW5STk6N3eTMYDOTl5ZGfn49SCqPRSN26dalevTpdu3YFoEqVKrRu3Vo/V9F6gODgYL788ksAmjRpoq93dXWlTp06pKam4ujoSGFhIa%2B%2B%2BirLly9n3bp1%2Bn729vYltqsswcHBJa5v2LAhABYW5h0VYmJiKCgooEePHsXeiyKZmZns3LlTz04tX76cAQMGUL9%2BfQDq1KlT7JgdO3bg6elJgwYNAO29zMzMBLSsl6urq74%2BKysLpRTZ2dk4OTlhZSVfJUKI%2B0RaGhw9ar5cvgweHlpGqUED88XDQ8tGHT%2BuLSdO/Pn8zBktxPm77O217JTJBPn5YDSaL/n5UKWK1q6/tq3otaMjlPVdVKOGlgUrzcqVf7/9olTyrVkZZWRUdAvE3XC3xs2U8eE/c%2BZMoqOjiYqKArRuakeOHCE6OlqvYPf555/j5OTE1atXadOmDQMHDjQb1wgQFxfHihUrWLRoEUOGDGHt2rWMGDGCBQsWAJh1uQOteuj1gceNKoAajUaWLVvGBx98oK9bt24dr7/%2BOhcvXuT7778HoH379nTt2hUXFxeUUowfP17v8lvkypUrbNy4kQkTJhS7zmeffUavXr2KrY%2BIiCA/Px9PT08A5s6dS1hYGC4uLsX2nTdvHu%2B//z75%2Bfns3LlTX3/mzBlatWqFvb0977zzDh07diz1fssSGxuLo6MjAwYM4MyZMzzyyCPMnDkTS0tLfZ9vv/2W7t276wFhbGwsRqORLl26kJWVxYQJE3jyySfNzrty5UqzKTDmzJlDz549eeWVVzCZTPz8888AjB8/nrCwMFxdXcnKymLVqlXFgkQhhLhn5efD%2BfOQkgLJydpjfDz89hv8%2Bqv2uiSnT9/6tSwtwdMTnJ21IKdKFe3x%2BqVKFahTB1xdwcVFeyx6bmtb9vmLvt9l3G2lIwFYZfTHX6WFuBvatm1rVj78ww8/1LM8CQkJxMXFFQvAGjVqREBAAACBgYH6mKS/Bl5/1z/%2B8Q86depkFrT079%2Bf/v37s2fPHqZOncoPP/zAyZMnOX78uJ7d6tGjB3v37tWPKygoYPjw4bzwwgv63H1FvvzySw4fPszu3bvN1qekpDBy5EiWLl2KhYUFycnJfP3112YFdK43btw4xo0bx/Lly3nnnXdYunQpLi4unDt3DmdnZyIjI%2BnXrx/Hjh0zy5jdrIKCAvbu3csvv/xC/fr1GTp0KEuWLGH06NH6PitWrGDMmDFmx0RGRrJjxw6uXr1K%2B/btCQ4O1rN8%2Bfn5bNiwwSxT//HHHzN79mwGDhzI6tWrGT16ND/88ANbt24lICCAnTt3curUKXr06EHHjh3/1r0IIcRNycuDc%2Be0gKkoaLr%2B8fx5bTzUX4ObosXCQhtDn5KiFZgoi50d%2BPmBv/%2BfS%2B3akJAAZ8/%2BuZw7pz0mJGjXaNYMfHzMFy8vLcC6WyTwqrQkAKuMJAN2f7qdbgp3kO11f3HbtWsXP/zwA/v376d69ep06dKlxPLiVatW1Z9bWlpy9erVMq9xM9VDi/z73/8mNTWVTz75pMTtnTp14vTp06SlpbFu3TqCg4P1bnm9evVi//79egA2duxYvL29efHFF83O8cMPP/Duu%2B%2Bye/dus3vJzMwkNDSUd999V8/Y/fLLL5w8eRIvLy8AcnNz8fLy4uTJk2bnHDZsGM8//7z%2B/hSdNzAwEE9PT2JjYwkKCirzfSqJu7s7AQEBegDZr18/Dhw4oAdgaWlpREREmHWNdHd3x9nZGVtbW2xtbenUqRO//vqrHoBt3ryZ1q1bU/e6KqtLly7VM46DBw/WA7rFixczefJkDAYDXl5eNGrUiBMnTtC2bdtbvhchhChGKa3r3v79cOCAtkRFQUHBnTm/hQXUq2eebXJ3hxYttGCrYUNtn79q2rTk8xUWaoGQ9AQQt0ACsMpIMmDiDqlRowZZWVmlbs/IyKBmzZpUr16dEydOcODAgTty3bCwMB5//HEmTpxIcnIycXFxJf4C/%2Bmnn7J161Z27Nhh1s3t5MmTeHp6YjAYOHLkCNeuXcPZ2Zn69euzaNEiXn/9dZRS7N69Ww%2B2/vWvf5GRkcGnn35qdo1ffvmFZ599li1btpiNjcrPz6d///48%2BeSTDBo0SF8fGhrK%2BfPn9dd2dnZ68BUXF4e3tzcA33//vf48NTUVJycnLC0tOX36NHFxccUycDerTZs2XLlyhdTUVGrXrs3OnTvNArk1a9bQu3dvbGxs9HV9%2B/Zl/PjxFBQUkJ%2Bfz8GDB3nppZf07StWrDDrfgjauLfdu3fTpUsXdu7cqd9L/fr12bFjBx07duTChQv8/vvvf/tehBAPiKwsbUzUtWvm45euH8%2BUkPBn0PXXLJWFBTRqBG5uJXfVq1dPy0L9dYxU0XVMJi2L5eqqPV7XZfu23clziQeGBGCVkWTAxB3i7OxMhw4daNGiBb169SI0NNRs%2B2OPPcaCBQvw8fGhadOmpRaMKE1pY8B8fX0ZMmQIzZs3x8rKinnz5uljmEJCQvj0009xdXXlueeeo0GDBnpxjgEDBjBt2jTWrl3LF198gbW1NdWqVWPVqlUYDAYGDRrEzp078fPzw2Aw8Nhjj9GnTx8SExN59913adasGa1btwa0sUxjxozh1VdfJTs7m8GDBwNagLFhwwZWr17Nnj17SE9PZ8mSJQAsWbJE72pZkrlz5/LDDz9gbW1NzZo1Wbp0KaCVlJ82bRrW1tZYWFiwYMECnJycAK1s/vLly8nNzcXd3Z0xY8Ywffp0Dh06RP/%2B/bl8%2BTIbN27kzTff5NixY1haWjJr1iy6d%2B%2BOUorAwECeeeYZvQ0rV640K7MP4OPjw2OPPYa/vz8WFhaMGTOGFi1aAFqxkO3btxfLMC5atIgJEyZQUFCAjY0NCxcuBGDq1Kk89dRT%2BPn5oZTiv//9L7Vq1bqZfw5CiAfFtWtaMLVzJ%2BzYARERt5bBqlUL2reH4GDtMShIKxYhxH3CoNQ90u9J3JQgg4HD//d/8OqrFd0UcQccP368WJEIIe4HJf3bDgoK4vDhwxXUoorxIN6zeMBcu6ZVDkxIgF27tIBr3z5t3FYRS0uti5%2BdXfECFEXPnZ2hXTst6GrcWMY33SPkM%2BzukAxYZSQZMCGEEELcTSYTJCVpEwGfPAmnTmnFLtLStC6CRY%2BldWP384Nu3aB7d%2BjUSabPEeI6EoBVRjIGTAghhBBlMZm00unXz2eVmgrVq2uLre2fz4uWS5f%2BDLhOn9ayWzdiaal1GaxTR8tedesGXbvCdUV9hBDmJACrjCQDJoQQQogi%2BflapcBDh/4Mtn77DXJybu%2B89epp81h5eWmPbm5asFW79p%2BPDg7SXVCIWyQBWGUkGTAhhBDiwZWQ8GeJ9v374ciRkrNVrq7m81m5u8PVq5CbqwVnubl/Ljk5YG8P3t5awNW4sRS%2BEOIukQCsMpIMmBBCCHF/U0obc3X9GKzjx%2BHgQW1s1l/5%2BGhFLAICtGDLz0/LUgkh7jkSgFVGkgETQgghKrfcXEhOhpQU7bFoOX36z6ArN7fkYx0dtfFWRUu7dto6IUSlINN2V0aSARMVyM7ODoDk5GSzCYqv16VLlxuWrb127RpDhw7Fy8uLdu3aER8fX2yfhIQEunbtSvPmzfH19eWDDz7Qt0VFRREcHExAQABBQUFEREQAcPnyZfr374%2B/vz9t27YlOjoagN9//52AgAB9sbe3Z86cOWbX%2B9///ofBYCAtLQ2A9957T9%2B/RYsWWFpacunSJfLy8mjbti0tW7bE19eXN998Uz/HE088QdOmTWnRogXh4eEYjcYyzwXQsGFD/Pz89Hu53kcffUSzZs3w9fVl0qRJ%2BvqjR4/Svn17fH198fPzI%2B%2BPks9TpkzBw8ND/zn91dq1azEYDGY/n9LOtWLFCvz8/PD39%2Bexxx7T35fp06fj5uam38%2BmTZtKvJYQ953kZNi0SSu1vn%2B/Ntbq5Elt/ZUr2sS/OTnauj17YNUqmD0bJk2CESO0ioA%2BPlqwZGurdffr1AmGDYOJE2HWLPjmG%2B28ubl/lmZ/4gl4801YtkzLgqWnw%2BbN2rqePSX4EqKyUaJSCQSl6tSp6GaIOyQmJqaim3DLbG1tb7hP586d1aFDh8rcZ968eerZZ59VSim1YsUKNWTIkGL7JCcnq8jISKWUUpmZmcrb21sdO3ZMKaVUjx491KZNm5RSSn3//feqc%2BfOSimlXnnlFTV9%2BnSllFLHjx9X3bp1K3begoICVbduXRUfH6%2BvO3funHr00UdV/fr1VWpqarFjNmzYoLp27aqUUspkMqmsrCyllFL5%2Bfmqbdu2av/%2B/XpbTCaTMplMatiwYWr%2B/PllnksppRo0aFDiNXfu3Km6d%2B%2Bu8vLylFJKXbhwQSmllNFoVH5%2BfioqKkoppVRaWpoqKChQSim1f/9%2BlZycXOLPKTMzU3Xs2FG1a9dO//mUdi6j0ahq166tt%2BvVV19Vb775plJKqTfffFO99957xc5/vZL%2BbQcGBpZ5zP3oQbzn%2B86FC0rNn69Up05KGQxKaZ0Db3%2BpWlWphg2VeughpQYNUuqf/1TqP/9RasUKpQ4dUurSpYq%2BcyHkM%2BwukS6IlZFkwMQdMnnyZDw8PBg3bhygZTbs7Ox47rnn6Nu3L5cvX8ZoNPLOO%2B/Qt29fs2Pj4%2BPp3bs30dHRXL16laeffppff/2VZs2acfXq1Rtee/369UyfPh2AQYMGMX78eJRSGK6rpuXi4oKLiwsANWrUwMfHh6SkJJo3b47BYCDzj%2B64GRkZuLq6AhATE8PkyZMBaNasGfHx8Vy4cIG615VE3rFjB56enjRo0EBf99JLL/F///d/xe6zyIoVKxg%2BfDgABoNBzzAZjUaMRqPe7pBfkeXgAAAgAElEQVSQEP2Ytm3bkpiYWOa5yvLxxx8zefJkqlatCkCdOnUA2LZtG/7%2B/rRs2RIAZ2dn/Zjg4OBSzzd16lRee%2B013nvvPX1daecyGo0opcjJycHZ2ZnMzEy8vLxu2GYh7guXLmmZqFWrYOdOraQ7QNWq8NBD2vOSiljk5ICVlVb8wsVFeyxaXFy0xc1Ne6xZU6oHCvGAkgCsMrp2TVv%2B%2BKVM3B8M/747X8TqTVXqtqFDh/Liiy/qAdjq1avZunUrNjY2rFu3Dnt7e9LS0ggODiYsLMwsOLrexx9/TPXq1Tl%2B/DhHjx6ldevW%2BrYxY8bw3HPPFetal5SUhIeHBwBWVlY4ODiQnp5OrVIGjcfHx/PLL7/Qrl07AObMmUPPnj155ZVXMJlM/PzzzwC0bNmSb775ho4dOxIREcHZs2dJTEw0C8BWrlxpFgCtX78eNzc3PQj5q9zcXLZs2cLcuXP1dYWFhQQGBnLy5EnGjRunt6uI0Whk2bJlZt0mSzuXwWDg0UcfxWAw8OyzzzJ27FgAYmNj2bt3L1OmTMHGxoZZs2bRpk0bYmNjMRgM9OzZk9TUVIYNG2bWPbEkR44cISEhgdDQULMArLRzWVtb8/HHH%2BPn54etrS3e3t7MmzdPP27u3Ll88cUXBAUF8b///Y%2BaNWuWeX0h7nl5efDtt/DFF7B9OxQUaOutrKBXLxg6FPr21SoFlkb98XkrgZUQogwyBqyysbTUHqUQh7gDWrVqxcWLF0lOTubXX3%2BlZs2aeHh4oJTijTfewN/fn0ceeYSkpCQuXLhQ6nn27NnDiBEjAPD398ff31/f9umnnxYLvm5VdnY2AwcOZM6cOdj/8cvPxx9/zOzZs0lISGD27NmMHj0a0LJ6V65cISAggI8%2B%2BohWrVphWfT/BsjPz2fDhg0MHjwY0AKi//znP7z11lulXn/jxo106NABJycnfZ2lpSVRUVEkJiYSERGhjzUr8o9//INOnTrRsWPHG55r3759HDlyhM2bNzNv3jz27NkDQEFBAZcuXeLAgQO89957DBkyBKUUBQUF7Nu3j6%2B%2B%2Bop9%2B/axbt06duzYUWr7TSYTEydO5H//%2B1%2BxbaWdy2g08vHHH/PLL7%2BQnJyMv78/M2bMAOD555/n1KlTREVF4eLiwssvv1zqtYW4pykFhw/DP/6hZaWGD9fGVikFPXrAp5/ChQvw3XcwcmTZwRdogZcEX0KIG5AMWGVjaQmFhVo3xNq1K7o14g4qK1N1Nw0ePJg1a9Zw/vx5hg4dCsBXX31FamoqkZGRWFtb07BhQ70ww53i5uZGQkIC7u7uFBQUkJGRYdaVrojRaGTgwIE88cQTDBgwQF%2B/dOlSPbs0ePBgxowZA4C9vT2LFy8GQClFo0aNaNy4sX7c5s2bad26tZ4RO3XqFGfOnNGzX4mJibRu3ZqIiAjq1asHFM%2BYXc/R0ZGuXbuyZcsWWrRoAcC///1vUlNT%2BeSTT4rtX9K53NzcAK2LYf/%2B/YmIiKBTp064u7szYMAADAYDbdu2xcLCgrS0NNzd3enUqZOeLQwJCeHIkSN07969xDZmZWURHR1Nly5dADh//jxhYWFs2LCh1HMVBbqenp4ADBkyhJkzZwKYZROfeeYZevfuXeJ1hbhnpabCl1/C55/D9X88ad0ann5ay3bJd6wQ4i6RDFhlIxkwcYcNHTqUlStXsmbNGj0rlJGRQZ06dbC2tubHH3/k7NmzZZ6jU6dOLF%2B%2BHIDo6GiOHj16w%2BuGhYWxdOlSANasWUO3bt2KdXFUSjF69Gh8fHyYOHGi2TZXV1d2794NwM6dO/H29gbgypUr5OfnA1r2rVOnTnowAcXHX/n5%2BXHx4kXi4%2BOJj4/H3d2dI0eO6MFXRkYGu3fvNhsblpqaypUrVwC4evUq27dvp1mzZvo1t27dyooVK7CwMP%2BILelcOTk5ZGVl6c%2B3bdumB3L9%2BvXjxx9/BLSugvn5%2BdSqVYuePXvy22%2B/kZubS0FBAbt376Z58%2BalvtcODg6kpaXp9xgcHMyGDRsICgoq9Vxubm7ExMSQmpoKwPbt2/Hx8QEgJSVFP/e6dev09gpxT8vIgOXLoX9/bUzWxIla8FWrFrz4Ivz6K0RGwvjxEnwJIe4qyYBVNkUBmBTiEHeIr68vWVlZuLm56QUvnnjiCfr06YOfnx9BQUF6cFGa559/nqeffhofHx98fHwIDAzUt5U2Bmz06NGMHDkSLy8vnJycWLlyJaCVtx8zZgybNm3ip59%2BYtmyZXqJdoD//Oc/hISEsGjRIiZMmEBBQQE2NjYsXLgQgOPHjzNq1CgMBgO%2Bvr589tln%2BjVzcnLYvn17iZmp0qxbt45HH30UW1tbfV1KSgqjRo2isLAQk8nEkCFD9CzQc889R4MGDWjfvj0AAwYMYNq0aaWe68KFC/Tv3x/QugM%2B/vjjPPbYYwCEh4cTHh5OixYtqFKlCkuXLsVgMFCzZk0mTpxImzZtMBgMhISEEBoaCsCkSZNYvnw5ubm5uLu7M2bMGL3YSUnKOtebb75Jp06dsLa2pkGDBixZskS/RlRUFAaDgYYNG97S%2BylEubp4ETZs0Apq/PCDViYewMICevfWsl29e0OVKhXbTiHEA8WglKqYfk/ibwlydORwRoY2ULiUam2i8jh%2B/LieVRDiflLSv%2B2goKAbzg93v3kQ77nCJSXB2rVa0LV3758VDC0soGNHGDAABg/WxnwJIcokn2F3h3RBrGwkAyaEEDe0ZcsWmjZtipeXlz527Xpnz56le/fu%2BPv706VLF326gLNnz9K6dWsCAgLw9fVlwYIF%2BjGRkZH4%2Bfnh5eXFCy%2B8gPz98h5z4gSMGgUNGsCECbB7t/ad2asXLFoEKSmwaxe88IIEX0KICiUBWGUjY8CEEKJMhYWFjBs3js2bNxMTE8OKFSuIiYkx2%2BeVV17hySef5OjRo0ybNo3XX38d0Oae279/P1FRURw8eJCZM2eSnJwMaF1tFy1aRFxcHHFxcWzZsqXc702UICpKy2g1b66VkAdtnNdXX2nFNjZtgjFj4I959IQQoqJJAFbZSAZMCCHKFBERgZeXF40bN6ZKlSoMGzaM9evXm%2B0TExNDt27dAOjatau%2BvUqVKvrE19euXcP0R/e1lJQUMjMzCQ4OxmAw8OSTT/Ltt9%2BW412JYn7%2BGUJDoVUrWLMGrK3h2WchNlbrfvj44%2BDgUNGtFEKIYiQAq2wkA3bfkW5M4n5T0f%2Bmr5/kG8Dd3Z2kpCSzfYom7AatOEpWVhbp6ekAJCQk4O/vj4eHB6%2B99hqurq4kJSXh7u5e5jnFXZabC7/8opWP79YNOnTQslvVqsFLL8Hp07BgAVw37YQQQtyLpApiZSMZsPuKjY0N6enpODs7FyvBLkRlpJQiPT0dGxubim5KmWbNmsX48eNZsmQJnTp1ws3NTZ%2Bw28PDg6NHj5KcnEy/fv0YNGjQLZ174cKFelXOojL%2B4hYYjRARATExcPz4n8tfp8Owt9dKxr/4opSNF0JUKhKAVTaSAbuvuLu7k5iYKL%2BkifuKjY2NWbaovBVN8l0kMTFRn%2By6iKurq54By87OZu3atTg6Ohbbp0WLFuzdu5cOHTrohTpKO2eRsWPHMnbsWIBi0y%2BIGzhwAMLDtYDrr6yswNsbfHygfXttXNdffmZCCFEZSABW2UgG7L5ibW1No0aNKroZQtxX2rRpQ1xcHGfOnMHNzY2VK1fqE4UXSUtLw8nJCQsLC2bMmEF4eDigBVbOzs5Uq1aNy5cvs2/fPl566SVcXFywt7fnwIEDtGvXji%2B%2B%2BIJ//vOfFXF796erV2HqVJg9Wysb36CBVjLex%2BfPxdNTG%2BclhBCVnARglY1kwIQQokxWVlbMnTuXnj17UlhYSHh4OL6%2BvkybNo2goCDCwsLYtWsXr7/%2BOgaDgU6dOjFv3jxAm7/s5ZdfxmAwoJTilVdewc/PD4D58%2Bfz1FNPcfXqVXr16kWvXr0q8jbvH/v2aVmvuDhtrq7XXoPp0%2BEe78YqhBB/l0zEfAds2bKFCRMmUFhYyJgxY5g8eXKJ%2B61du5ZBgwZx6NAhgoKCiI%2BPx8fHh6ZNmwIQHBxsNudMSYJ8fTkcEwN%2BfnD06B2/FyGEuFsexAk9H8R7vmk5OTBlCnz4ISgFvr6weDG0aVPRLRNC/EE%2Bw%2B4OyYDdpqL5ZrZv3467uztt2rQhLCyM5s2bm%2B2XlZXFBx98QLt27czWe3p6EhUVdfMXtPijcKV0QRRCCFFZ7d6tZb1On9Z6drz%2BOvzrX/DHFABCCHE/kzL0t%2Blm5psBmDp1Kq%2B99trtVwaTLohCCCEqK6XgP/%2BBLl204MvfX6t4%2BPbbEnwJIR4YEoDdppuZb%2BbIkSMkJCQQGhpa7PgzZ87QqlUrOnfuzN69e298wesDMOk9KoQQorJQCiZN0rodGgwwbRocOgStW1d0y4QQolxJF8S7zGQyMXHiRJYsWVJsm4uLC%2BfOncPZ2ZnIyEj69evHsWPHsLe3N9vPbE6ZtDSoXl2bkDInB%2BzsyuM2hBBCiL%2BvsBD%2B8Q9YuFArJ//llzB0aEW3SgghKoRkwG7TjeabycrKIjo6mi5dutCwYUMOHDhAWFgYhw8fpmrVqjg7OwMQGBiIp6cnsbGxxa4xduxYDh8%2BzOHDh6ldu7Y2%2BSTIODAhhBD3PqMRRozQgi8bG/j2Wwm%2BhBAPNAnAbtP1883k5%2BezcuVKwsLC9O0ODg6kpaURHx9PfHw8wcHBbNiwgaCgIFJTUyksLATg9OnTxMXF0bhx4xtf1MFBe5RxYEIIIe5lV69C//6wcqXWY2PLFiihO74QQjxIpAvibbqZ%2BWZKs2fPHqZNm4a1tTUWFhYsWLAAJyenG19UMmBCCCHudVlZEBYGu3aBk5MWfEmJeSGEkADsTggJCSEkJMRs3VtvvVXivrt27dKfDxw4kIEDB976BSUDJoQQ4l6Wng69emlFNlxcYPt2bZ4vIYQQ0gWxUpIMmBBCiHvVsWNamflDh6BRI9i3T4IvIYS4jgRglZFkwIQQQtxrsrLg1VchIACio8HHB/buhZsZ2yyEEA8QCcAqI8mACSGEuFcopRXZaNYMZs3SSs4/9xz89BNcVxVYCCGERsaAVUaSARNCCHEviImB8ePhxx%2B1123bwrx5EBRUse0SQoh7mGTAKiPJgAkhhKhIRd0NW7bUgi9nZ1i0CPbvl%2BBLCCFuQDJglZFkwIQQQlSUmBitwuG5c2AwwLPPwrvvakGYEEKIG5IArDKSDJgQQoiKEBkJPXtqZeZbt4ZPPpGMlxBC3CIJwCqjogyYBGBCCCHKy5490Lu31v0wNBS%2B/hqqVavoVgkhRKUjY8AqI%2BmCKIQQojxt3qxlvrKyYOhQ%2BOYbCb6EEOJvkgCsMpIuiEIIIcrL119D376QlwdjxsBXX0GVKhXdKiGEqLQkAKuMJAMmhBCiPHz%2BOQwbBkYjvPwyLFwIlpYV3SohhKjUJACrjCQDJoQQ4m6bMwdGjwaTCd56C957T6t6KIQQ4rZIAFYZ2dlpX4K5uVBQUNGtEUIIcb95%2B2146SXt%2BZw5MHWqBF9CCHGHSABWGRkMf2bBpBuiEEKIO2n2bJg2DSwstC6IEyZUdIuEEOK%2BImXoKysHB60LYmYmODlVdGuEEELcD774AiZO1J5//jmMGqVvKjQV8nv670QmR3L0wlG8nb0Z1XIUVa2qVlBj710mZSI9N52U7BSSs5JJzkomJSuFlOwUXOxc6N2kN/51/THc5ayiUoqkrCQOJx8mMjmSXGMurVxaEegSSBPnJlhayHg%2BISqCBGCVlYwDE0IIUYYCUwGWBsub/yV/wwYID9eO/d97xIa0IfLXZUSmRBKZEskvKb%2BQY8wxO%2BTtPW/z%2BsOvM7rV6Ac%2BEDueepz/7PsPe87uISUrBaPJWOq%2B//rxX9R3qE9v7970adqHLg27YGNlU%2Bb5lVLkGnMxKVOp%2B1zJu8KRlCNawPXHz%2B1izsUS97W1tqWVSyuCXIIIdA0k0CWQprWaYmGQzlFC3G0GpZSq6EaImxcUFMThw4fh4Yfhp5%2B0iTE7dqzoZgkhxA3pn18PkIq4Z2OhkVe2vcL8w/OpalkVlxouuNZwxbWGKy52fz63tbblfPZ5LUsTe5jkvZtJtjWRUs%2BWC4ZcFMV/PajvUJ9Al0Ba1GnB%2Bt/Xc/TCUQDc7d154%2BE3CG8VXqkDsez8bI5dPIZvHV/sqtjd1DHHU4/z9p63WRm90uw9c7RxLPa%2B17Wty7HUY3wX%2Bx0Xci7o%2B9pa2/Ko56OEeodiY2XzZ9bs%2Bgxadgq5xtxbvqeaNjX1AMuuip0eoCVkJhTb162GG6NbjWZM6zF4OHjc8rXE/edB/NwuDxKAVTL6f4SQEG1izI0boXfvim6WEELc0IP4RV7e93wx5yKDvx7MnrN7bvtcRcFWoEug/gt8bdva%2BnaTMvHtiW%2BZvms6v138Daicgdi5jHNs/H0jG2M38mP8j%2BQX5lPVsipdG3WlT5M%2B9G7Sm/oO9Ysd99fAy9rCmjGtxzC%2B7XgaOTaimnXpE1WblInDyYf5LvY7NsZuJOp81E21taplVawtrUvdbmNlQ0C9ALOfWyPHRiVmQVNzUrUsWXIkh1MOE5EUQXJWMgAWBgtCvEMY23osvbx7YWUhHaYeVA/i53Z5kACsktH/IwwfDitXahNiPv54RTdLCCFu6EH8Ii/Pez6cfJj%2Bq/qTmJmIi50L3wz9Bp9aPsXGISVnJZOcnUx2fjYuhdVxWbUJ1wu5uLZ8GJdp/4erowd1beuW%2BYv%2B9UzKxLrj6/j37n%2BbBWIDfQbqQUBT56b3zHgjkzIRkRShBz9FWTwAAwa8nb2JS48zy2b51/WnT5M%2B9GnSB7sqdry7991igdfkhyeXGKjdjISMBL6L/Y4fzvyAtYV1sWxlURazRpUad23cmFKKXfG7%2BCTyE745/o3ehdLd3p3RrUYzutVoyYo9gB7Ez%2B3yIAFYJaP/R3j2WW1CzPnz4fnnK7pZQghxQw/iF3l53fPSqKU8%2B92zXCu8xkMeD7Fm8BpcariUfVBCgtad/dw56NlTGwNWpcrfbkNJgViRovFG12dm7mRQZiw0svfcXjb%2BvpHNJzeTmpta6r7XCq6ZjWWzq2JHT8%2Be9GnShxDvEGrb1uZizkU2xW1iY%2BxGtp3aRnZ%2BdrHz3InA616VmpPKkqglLDyykJOXTgJaVqxzg85aINq0D15OXhXcSlEeHsTP7fIgAVglo/9HmDRJmxRz5kx47bWKbpYQQtzQg/hFfrfv2Vho5OVtL/NRxEcAPBf4HB/0%2BoAqljcIpNLStPHDJ05A%2B/awfTvY2t6RNpmUiR/P/MiBxAN6IYhzGeeK7ffXoCzINeiWKvNdunqJzXGb2Ri7kS0nt5Bx7eaLUjVwaKAHEp0bdC6zu%2BS1gmvsit/Fxlitm%2BL57POEB4TzesfX77vA669MyqRnxdYdX2dWWKRZrWZ6EZGHPB4q1k3RpEyk5abp2ddcYy4t6rSgiXMTKfRRiTyIn9vlQTr1VlZSBVEIIR5oF3MuMuTrIew%2BuxtrC2vmhczjmcBnbnygUjB0qBZ8tWgB3313x4Iv0DIl3Rt3p3vj7vq668cbRaZE6kUg9p3bx75z%2B/T9ioKy5rWalzruSKE4lnqMn879RKEq1Nf71PLRg6pmtZphoOSuegaDgZo2NW%2B6K19Vq6r09OpJT6%2BefNTrIxTqgQkgLAwWdGvUjW6NunH56mW2nNzCxlgty3gi7QQn0k4wa/8snKo50a1RN4yFRr3L6/ns8xSYCoqds0aVGsUCb29n7wfmPRUCJACrvBwctEcJwIQQopgtW7YwYcIECgsLGTNmDJMnTzbbfvbsWcLDw0lNTcXJyYkvv/wSd3d3oqKieP7558nMzMTS0pIpU6YwdOhQAJ566il2796Nwx%2Bfv0uWLCEgIKDc7w0gLj2O7l90JyEzARc7F9YOWUt7j/Y3d/Cnn8LOnVCrFmzdWi5zSda2rc1jXo/xmNdj%2BrqbDcpKY2VhRfeG3fVCGZ5OnnfzFgAteCstsLvf1axWk%2BF%2BwxnuNxxjoZGfEn7Si5fEXYpjTcyaYsc4V3PWx69VsaxC1PkoEjMT2XN2j1mhmBpVauDp5FlmENbAoQG9m/Qm1DuUunZ178o9ClFepAtiJaOngpcuhaeeghEjYNmyim6WEELcUHl1ZSksLKRJkyZs374dd3d32rRpw4oVK2jevLm%2Bz%2BDBg%2BnduzejRo1i586dLF68mGXLlhEbG4vBYMDb25vk5GQCAwM5fvw4jo6OPPXUU/Tu3ZtBgwbddFvuxj1fvnqZ4M%2BCiU2PJdg9mLVD1uJaw/XmDk5KgubNITMTVqyAYcPuaNtuV1FQdvryacr69aSuXV16NO6Bg41DObZOlCY2PZZ95/bhUNVBD7jq2dUrcW6zC9kXigXeSVlJN30tAwbaurXVs51%2Bdfzu%2BoTWDzLpgnh3SAasspIMmBBClCgiIgIvLy8aN24MwLBhw1i/fr1ZABYTE8P7778PQNeuXenXrx8ATZo00fdxdXWlTp06pKam4ujoWI53ULoCUwFD1gwhNj0Wvzp%2BbBuxjRpVa9zcwUppRZsyMyEsTOuGeI8pypSJyqWJcxOaODe58Y5owXOIdwgh3iH6uvPZ50nKLD0IKyrbvzF2IzvP7ORg0kEOJh3UJ7Tu06QPAfUCzOZdq21bu8SMmlKK9KvpZlVBM65lUMe2jln1yZv%2BfyXE3yABWGVVNAYsM7Ni2yGEEPeYpKQkPDz%2BLJft7u7OwYMHzfZp2bIl33zzDRMmTGDdunVkZWWRnp6Os7Ozvk9ERAT5%2Bfl4ev7ZtW3KlCm89dZbdO/enZkzZ1K1avnOdfXSlpf44fQP1K5em43DN97aL4mrV2tzR9rbaxV0JWsg7hH17OpRz65emfu0cWvD822eJyc/hx9O/8DG2I18F/sd5zLOMe/QvGL7W1lYUc%2Bunh6MXbp6SR%2Bbll%2BYf8M22VWxMwvISpoWwMXORQI18bdIAFZZSQZMCCH%2BtlmzZjF%2B/HiWLFlCp06dcHNzw9Lyz%2Bp7KSkpjBw5kqVLl2Jhof0VfcaMGdSrV4/8/HzGjh3Lf//7X6ZNm1bs3AsXLmThwoUApKaWXg79Vi04vIC5h%2BZSxbIK64auo4Fjg5s/OC0N/vlP7fmsWeDmdsfaJUR5sq1iS99mfenbrK%2BeGdtycgtnrpwxm%2B8u/Wo6iZmJJGYmFjuHo42jWVDlUNWBi7kX/5wnL0ubJy82PZbY9Ngy22NXxY4WdVroFSGlS6S4GRKAVVZFAZhkwIQQwoybmxsJCQn668TERNz%2BEnC4urryzTffAJCdnc3atWv1boaZmZmEhoby7rvvEhwcrB/j4qLNq1W1alWefvppZs2aVeL1x44dy9ixYwFt/MSdsPPMTsZvGg/Awt4L6VC/w62d4KWXIDUVunaFMWPuSJuEqGgWBgvaurWlrVvbYtvyCvI4n32elKwUUnNTcarmpAdd1ayrlXlepRSZ1zL1YCw5K5mU7BQtQMs2n9Q8Oz%2BbA4kHOJB4QO8SWRSMdW3YtcwpDsSDSwKwykrK0AshRInatGlDXFwcZ86cwc3NjZUrV7J8%2BXKzfdLS0nBycsLCwoIZM2YQHh4OQH5%2BPv379%2BfJJ58sVmwjJSUFFxcXlFJ8%2B%2B23tGjRolzuJy49jkGrB1GoCnn1oVcZFTDq1k6waRN8%2BSVUqwYLF0rXQ/FAsLGyoaFjQxo6NrzlYw0GAw42DjjYOOBT26fU/ZRSXM67zN6ze826RM4/PJ/5h%2Bdja23Lo56PMtR3KP2a9ZNgTOhk0oU7YMuWLTRt2hQvLy9mzpxZ6n5r167FYDCYVZOZMWMGXl5eNG3alK1bt978Ra/PgEkhSyGE0FlZWTF37lx69uyJj48PQ4YMwdfXl2nTprFhwwYAdu3aRdOmTWnSpAkXLlxgypQpAKxevZo9e/boJeYDAgKIiooC4IknnsDPzw8/Pz/S0tL417/%2Bddfv5UreFfqs6MPlvMv0adKHGd1n3NoJMjPhuee052%2B/DV5ed76RQjygDAYDTtWc6NusL5%2BGfUryy8kcHHOQf3X8Fy3rtiTHmMO6E%2BsYtnYY7rPdeXXbq8Slx1V0s8U9QMrQ36abKXcMkJWVRWhoKPn5%2BcydO5egoCBiYmIYPnw4ERERJCcn88gjjxAbG2s2DuGvzMqBVq0K%2BfmQm6v9ZVMIIe5hD2I549u55wJTAaHLQ9l2aht%2Bdfz4KfynWx/wP26cVnCjTRv4%2BWewko4vQpSXhIwE1p1Yx6dHPuW3i7/p67s16sbY1mPp79OfKpZV9PXZ%2BdlEnY8yK9F/5soZalWvZVbh8frnXk5eeDl53bVxZw/i53Z5kE/i23Qz5Y4Bpk6dymuvvcZ7772nr1u/fj3Dhg2jatWqNGrUCC8vLyIiImjf/iYn03Rw0Pr0Z2ZKACaEEPeZV7a9wrZT26hdvTYbhm%2B49eBr714t%2BLKygs8%2Bk%2BBLiHLm4eDBC%2B1e4J9t/8nBpIMsjFzIyuiV7Dyzk51ndlK7em2GtRjGlbwrRKZEcjz1OIrieZHSiokU8azpqc%2BL1rF%2BR6wtre/mbYk7QD6Nb9PNlDs%2BcuQICQkJhIaGmgVgSUlJZgO83d3dSUq6%2BckIsbfXArCMDKgrs8ILIcT94ve03/ng4AdYW1jzzdBvbn0cy9WrMHq09vyNN8DP7463UQhxcwwGA8HuwQS7B/N%2Bz/f58uiXfBL5CdEXo/ko4iN9PysLK1rUaUGgS6C2uAbS1Lkpl65eIiU7xazKY1ExkF9SfuHU5VPMOTiHOQfn4FDVgce8HqN3k9708uqFc3XnMlomKooEYHeZyWRi4sSJLFmy5G%2Bfo9SSxlIJUQgh7kt7z%2B0FoL9Pfx6u//CtHXztGowaBXFx0Ly5FoAJIe4JjjaOjG87nnFtxnEw6SDfxX6HWw03Al0D8a/rj42VTS2v5dIAACAASURBVLFjHGwcaFSzUYnnKzQVciDxABtjN7IxdiMxqTGsOraKVcdWYWGwoHnt5rjVcNPmLrMrPo%2BZu707lhalD30Rd4cEYLfpRuWOs7KyiI6OpkuXLgCcP3%2BesLAwNmzYcFOlkqGMksZSCVEIIe5LPyf8DEAHj1ssN5%2BZCf37w86d2nfEF19o44WFEPeU67Nit8PSwpIO9TvQoX4HZj4yk9OXT7Px9418F/cdu%2BN3E30xmuiL0aUeb2ttSyuXVnrWLcg1iCbOTSQou8skALtNNyp37ODgQFpamv66S5cuzJo1i6CgIKpVq8bjjz/OxIkTSU5OJi4ujrZti89lUSrJgAkhxH3pp4SfAHjI46GbP%2Bj8eejVC6KioF492LIFWra8Sy0UQtyLGtdszITgCUwInkDmtUxOXTplNpfZ9c8TMxM5n32efef2se/cPv0cRUFZkMudmcdQFCcB2G26vtxxYWEh4eHhernjoKAgwsLCSj3W19eXIUOG0Lx5c6ysrJg3b16ZFRCLkQyYEELcd9Jy04hNj6WaVTVa1r3JACo2Fh57DM6cgSZNYOtWaNjwrrZTCHFvs69qTyuXVrRyaVXqPqk5qUSmRJpVXkzITNCDskACy7HFDw4JwO6AkJAQQkJCzNa99dZbJe67a9cus9dTpkzR55%2B5ZZIBE0KI%2B87%2BhP3w/%2B3deVyVdd7/8deBw%2BoGIi6ApYILooiKS/c0jstYpkZZbneLTmqm2Uw1lW2TOf3qgd51N9VDyywtsynrNpfGyqYylyYbQkVzm8jQBE0BRUHZuX5/XJ4DRxYR8Czwfj4e1%2BO6zrWdzznlBR%2B%2B3%2B/nCwwMH1i7ambffw%2BjR0NWFgwcCBs2QGjoFY5SRBqD0GahjIoaxaioUfZ9FZOytf9Y68LoGi9NxOzJ1AImItLo2MZ/1ar74caNMHSomXzdcIM59kvJl4jUgy0pe3JIHRsI5JKUgHkyWwuYEjARkUbj2/RaJmArV8KNN8L582bVw/XroVkzJ0QoIiL1oQTMk9lawNQFUUSkUSguLSYpIwmg5upoX38NU6ZASQk8%2Bii89Rb4aPJVERFPoDFgnkwtYCIijUrKrykUlBTQPaQ7bQLbVH/i4sXm%2BuGHYcEC5wQnIiINQi1gnkwtYCIijUqt5v/KzISPPwYvL3jwQSdFJiIiDUUJmCdTC5iISKNSq/m/3n0XiovNohthYU6KTEREGooSME%2BmMvQiIo2GYRiXTsAMA5YtM7enTXNSZCIi0pCUgHkylaEXEWk0jp49yrHcYwT7B9O9TfeqT0pOhn37zFLzY8c6N0AREWkQSsA8mVrAREQaDdv4r2s6XoOXpZofz7bWrzvvBF9fJ0UmIiINSQmYJ2vRwlzn5kJZmWtjERGRerFPwBxRTffD8%2Bfh/ffNbXU/FBHxWErAPJm3NzRvbo4JyMtzdTQiIlIP9gSsuvFfa9aYPR4GDYKYGCdGJiIiDUkJmKfTODAREY93rugcKb%2Bm4G3xZkD4gKpPUvENEZFGQQmYp9M4MBERj5eUkUSpUUqf9n1o7tu88gmHDsHmzRAQAJMmOT0%2BERFpOErAPJ1awEREPN4lx3%2B9/ba5njCh/A9vIiLikZSAeTq1gImIeLxv080E7DdX/abywdLS8gRM3Q9FRDyeEjBPpxYwERGPVmaUsf3odqCaAhxffAHp6RAZCUOGODk6ERFpaErAPJ2tBUwJmIiIR/pP1n84XXCa8BbhdGzZsfIJy5eb62nTwGJxbnAiItLglIB5OlsLmLogioh4pIrl5y0XJ1hZWbBuHXh5wZQpLohOREQamhIwT6cWMBERj1bj/F9//zsUF8P110NEhJMjExGRK0EJmKdTC5iIiEezFeColIAZRvncX9OnOzkqERG5UpSAeTq1gImIeKzs89kczDqIv9WfuPZxjgd37IAffoA2beDGG10ToIiINDglYJ5OLWAiIh5re7pZ/XBA2AB8vX0dD9qKb9xxB/hedExERDyWEjBPpxYwERGPVe34r/x8eO89c1vdD0VEGhUlYJ5OLWAiIpVs3LiR7t27ExUVxYIFCyodP3LkCCNGjCA2NpahQ4eSnp4OQEpKCtdccw0xMTHExsbywQcf2K9JS0tj0KBBREVFMWnSJIqKiuodZ7UJ2Jdfmn9Y69cPevWq9/uIiIj7UALm6dQCJiLioLS0lDlz5vDZZ5%2Bxf/9%2B3n//ffbv3%2B9wzsMPP8yUKVPYs2cP8%2BbN4/HHHwcgMDCQd955h3379rFx40YeeOABcnJyAHj00Ud58MEH%2BemnnwgODmaZrUBGHRWXFpOUkQRUkYBt2GCub7qpXu8hIiLuRwmYp7MlYGoBExEBICkpiaioKLp06YKvry%2BTJ09m/fr1Dufs37%2Bf4cOHAzBs2DD78W7dutG1a1cAwsLCaNu2LZmZmRiGwaZNmxg/fjwAU6dOZd26dfWKc/eJ3eSX5NMtpBttAtuUHzCM8gRMxTdERBodJWCeztYFUS1gIiIAZGRk0LFjR/vriIgIMjIyHM7p06cPa9asAWDt2rXk5uaSnZ3tcE5SUhJFRUVERkaSnZ1NUFAQVqu12ntermq7H%2B7aBceOQXg4xMVVcaWIiHgyJWCeLjAQvL2hoAAaYDyCiEhT8MILL7Blyxb69u3Lli1bCA8Px9vb2378%2BPHj3Hnnnbz11lt4eV3ej8qlS5cSHx9PfHw8mZmZ1Z5nT8AiLkrA/vEPcz12LFgsl/XeIiLi/qyuDkDqyWIxW8FOnza7IbZpc%2BlrREQasfDwcI4ePWp/nZ6eTnh4uMM5YWFh9hawvLw8PvroI4KCggA4e/YsY8aM4bnnnmPw4MEAhISEkJOTQ0lJCVartcp72sycOZOZM2cCEB8fX22c1baA2RIwdT8UEWmU1ALWAC5VbWvJkiX07t2buLg4rr32Wvtg8MOHDxMQEEBcXBxxcXHMmjWrbgFoHJiIiN2AAQNITU0lLS2NoqIiVq1aRUJCgsM5WVlZlJWVAZCYmMi0adMAKCoqYty4cUyZMsU%2B3gvAYrEwbNgwVq9eDcCKFSu4qR4FMk7ln%2BLo2aME%2BgQSHRpdfuDYMXMC5oAAuDBGTUREGhclYPVUm2pbt912Gz/88AMpKSnMnTuXP//5z/ZjkZGRpKSkkJKSwpIlS%2BoWhMaBiYjYWa1WFi1axPXXX090dDQTJ04kJiaGefPm8fHHHwOwefNmunfvTrdu3Thx4gRPPvkkAB9%2B%2BCFbt27l7bfftv9xLCUlBYCFCxfy4osvEhUVRXZ2NtPrMT/X/kzz50R0m2i8LBV%2BFH/yibn%2B/e/NJExERBoddUGsp4rVtgB7ta2ePXvaz2lpS5CAc%2BfOYWnoPv0qRS8i4mD06NGMHj3aYd8zzzxj3x4/frxDC5fNHXfcwR133FHlPbt06UJSUlKDxLfv5D4AYtrGOB6wVT8cO7ZB3kdERNyPWsDqqTbVtgAWL15MZGQkc%2BfO5ZVXXrHvT0tLo2/fvvzud79j27ZtdQtCkzGLiHgUWwtYzzblf6wjPx%2B%2B%2BMLcVgImItJoKQFzkjlz5nDo0CEWLlzIs88%2BC0CHDh345Zdf2LVrFy%2B%2B%2BCK33XYbZ6tIoi5ZUUstYCIiHmVfZhUtYF9/bSZh/ftDWJiLIhMRkStNCVg91abaVkWTJ0%2B2T97p5%2BdHSEgIAP379ycyMpIff/yx0jUzZ84kOTmZ5ORkQkNDK99ULWAiIh7FloD1DK3QAlax/LyIiDRaSsDqqTbVtlJTU%2B3bn3zyCV27dgUgMzOT0tJSAH7%2B%2BWdSU1PtY8kui1rAREQ8xqn8U/ya9yuBPoF0Cupk7jSM8vFfKj8vItKoqQhHPVWstlVaWsq0adPs1bbi4%2BNJSEhg0aJFfPnll/j4%2BBAcHMyKFSsA2Lp1K/PmzcPHxwcvLy%2BWLFlC69atLz8ItYCJiHiMKisg7t4N6enQoQP07evC6ERE5EpTAtYALlVt6%2BWXX67yultvvZVbb721/gGoBUxExGPYC3BU1/3QS51TREQaMz3lGwO1gImIeAx7CfrQCgU4VH5eRKTJUALWGKgFTETEY1SqgPjrr5CUBP7%2B5gTMIiLSqCkBawzUAiYi4jEqdUH89FNzPXw4BAa6KCoREXEWJWCNgVrAREQ8wun80xzPO06ANaC8AqJt/JeqH4qINAlKwBoDtYCJiHgEewXE0AsVEAsK4J//NA9q/JeISJOgBKwxUAuYiIhHsI//shXg2LwZzp%2BHuDiIiHBdYCIi4jRKwBqDii1ghuHaWEREpFqVKiCq%2B6GISJOjBKwx8PU1q2eVlpp/SRUREbe0P6tCAQ7DUPl5EZEmSAlYY6FuiCIibs/eAtY2Bn74AX75Bdq1g/h4F0cmIiLOogSssVAhDhERt1apAqKt9WvMGPDSj2MRkaZCT/zGQi1gIiJurVIFRI3/EhFpkpSANRZqARMRcWsOFRBLS%2BH7780Dv/%2B9C6MSERFnUwLWWKgFTETErdlawHqG9oRffzWTsHbtoHlzF0cmIiLOpASssVALmIiIW3NoATt61Nypub9ERJocJWCNhVrARETcmkMFxPR0c2fHji6MSEREXEEJWGOhFjAREbdVqQKiWsBERJosJWCNhVrARETcVqUKiLYETC1gIiJNjhKwxkItYCIibsuWgMWExpg71AVRRKTJUgLWWKgFTETEbdkKcPQM7WnuUBdEEZEmSwlYY6EWMBERt%2BVQARHUAiYi0oQpAWssbC1gWVmujUNERCpxmAOspASOHQOLBcLCXByZiIg4mxKwxiI6GgICYOdO2L3b1dGIiMgFOQU5HMs9RoA1gM7BneH4cSgrMydh9vV1dXgiIuJkSsAai%2BBgmDnT3E5MdG0sIiJiZ5v/y14BUd0PRUSaNCVgjcnDD4OPD3z4Ifz4o6ujERERLup%2BCCrAISLSxCkB8zD5xfnVH4yIgKlTwTBg4ULnBSUi4mY2btxI9%2B7diYqKYsGCBZWOHzlyhBEjRhAbG8vQoUNJt7VKAaNGjSIoKIixY8c6XPOHP/yBzp07ExcXR1xcHCkpKbWKRQU4RESkIiVgHib1VColZSXVn/Doo%2BDlBe%2B8A7/84rzARETcRGlpKXPmzOGzzz5j//79vP/%2B%2B%2Bzfv9/hnIcffpgpU6awZ88e5s2bx%2BOPP24/9sgjj7By5coq7/3888%2BTkpJCSkoKcXFxtYqn0hxgagETEWnSlIB5mOLSYjb8uKH6E6KiYNIks8rWCy84LzARETeRlJREVFQUXbp0wdfXl8mTJ7N%2B/XqHc/bv38/w4cMBGDZsmMPxESNG0KJFiwaLp9o5wNQCJiLSJCkB80Cv73i95hNsf8l94w04ceLKByQi4kYyMjLoWCG5iYiIICMjw%2BGcPn36sGbNGgDWrl1Lbm4u2dnZl7z3k08%2BSWxsLA8%2B%2BCCFhYWXPL/UKLVXQOwU1MncqS6IIiJNmhIwD2OxWPj8p8/5%2BfTP1Z/UuzckJEBBAfztb84LTkTEQ7zwwgts2bKFvn37smXLFsLDw/H29q7xmsTERA4ePMj333/PqVOnWFjNWNulS5cSHx9PfHw8xzOPA9CjTQ%2B8vS7cX10QRUSaNCVgHiY4IBgDgzd2vFHziU88Ya5ffRVOn77ygYmIuInw8HCO2pIcID09nfDwcIdzwsLCWLNmDbt27eK5554DICgoqMb7dujQAYvFgp%2BfH3fddRdJSUlVnjdz5kySk5NJTk7Gv7k/ADFtL4z/Ki425wHTJMwiIk2WErAGcKlqW0uWLKF3797ExcVx7bXXOgwGT0xMJCoqiu7du/P5559f8r1CA0MBWJ6ynKLSoupPHDQIRoyA3FxYtOjyP5SIiIcaMGAAqamppKWlUVRUxKpVq0hISHA4Jysri7KyMsB8Dk%2BbNu2S9z1%2B3GzNMgyDdevW0atXr0tek19iVq61F%2BA4ftysVNu%2BvTltiIiINDlKwOqpNtW2brvtNn744QdSUlKYO3cuf/7znwFzEPiqVavYt28fGzdu5N5776W0tLTG92vu25xebXtx8txJ1h1cV3NwTz5prl96CfLy6vwZRUQ8idVqZdGiRVx//fVER0czceJEYmJimDdvHh9//DEAmzdvpnv37nTr1o0TJ07wpO15Cfz2t79lwoQJfPXVV0RERNj/OHb77bfTu3dvevfuTVZWFn/5y18uGYtt6hAV4BARERurqwPwdBWrbQH2als9e/a0n9OyZUv79rlz57BYLACsX7%2BeyZMn4%2BfnR%2BfOnYmKiiIpKYlrrrmmxvec1X8W9312H6/veJ2JMROrP3HoUBg8GL77DpYuhQuJn4hIYzd69GhGjx7tsO%2BZZ56xb48fP57x48dXee22bduq3L9p06bLjqOgpADQHGAiIlJOLWD1VJtqWwCLFy8mMjKSuXPn8sorr1zWtRe7I/YOAn0C2ZS2if9k/af6Ey2W8lawF16AWlTsEhGRhlNcWuxYAVEFOEREmjwlYE4yZ84cDh06xMKFC3n22Wcv69qKFbUyMzNp5d%2BK/%2B713%2BaxHUtrvnjMGIiNNccdvP12HaMXEZG6qrIColrARESaLCVg9VSbalsVTZ48mXXr1l3WtRUraoWGmkU4ZsXPAuDt3W/bu7hUyWIpr4i4cKE5QbOIiDiNvQIilHdBVAuYiEiTpQSsnmpTbSs1NdW%2B/cknn9C1a1cAEhISWLVqFYWFhaSlpZGamsrAgQNr9b7xYfH069CPU/mnWL1/dc0njx8PXbtCWhqsWHF5H1BEROqlZ5vyMcFqARMRESVg9VSbaluLFi0iJiaGuLg4XnzxRVZcSIJiYmKYOHEiPXv2ZNSoUSxevPiSE4FWNKu/2Qr2%2Bo7Xaz7R27t8LNicObB582V/ThERqRu1gImISEUWwzAMVwchtRcfH09ycjIAeUV5hP1vGLlFufww%2Bwd6ta1hThrDgNmz4fXXoUUL%2BPpr6N/fSVGLiDg%2Bv5oK346%2BHNh9gMjWkVBUBP7%2BZtfwwkKwqhCxiLi3pvjcdga1gHmw5r7NuSP2DgBeT75EK5jFAosXw6RJ5uTMo0bBwYNOiFJEpOmKbRdrJl8Ax46Zfwzr0EHJl4hIE6afAB7unv738Frya6zcs5IFv19AM99m1Z/s7Q3vvANnzsDGjTByJPzrX3DVVc4LWEQ8UlFpEWcLz3K28Cy5hbn27YuX3KLcal%2B3o52rP4ZrqfuhiIigBMzj9Wnfh2sirmF7%2BnY%2B2PcB0/pOq/kCX1/46CO47joz%2BRo5ErZtg7ZtnROwiDiNYRgUlhZypuBMpUTpTGHlfTUthaX1n0ewySdgKsAhIiIoAWsU7ul/D9vTt7MkecmlEzCAwEDYsAGGDoXdu83uiF9/Da1aXfFYRaR2SstKHZIlWxJV5XbRWYd99usKzlBcVtwg8Vi9rLTwbUEr/1a09GtJS7%2BWtPBtYd%2Bu8rVfC4djt/7j1gaJxWOpBUxERFAC1ihMjJnIA58/wPfHvmfn8Z3069Dv0hcFBcHnn8O118KuXZCQYHZLDAi48gGLNHIlZSX2BMiWJNW4rmJfXlFeg8Ti4%2BXjkDS19GtJK7/qX7fwa1HpeEu/lvhb/bFYLA0SU5OlFjAREUEJWKMQ4BPAH/r8gZf%2B/RLPf/s8793yXu1%2BUWrXDr74An7zG9i6FSZMgDVrzG6KIk2UYRgUlBSQU5BDTkEOZwrPlG8XnHHYZ19ftL8hkicLFnsyZEugbImRbZ/99cXHKyRc/lb/BvhWpEEoARMREZSANRqzB8xm0feLWLV3Fd4Wb5YlLMPP6nfpCzt1MpOw3/4WPvkEBg%2BGd9%2BFnj0veamIuyosKSSnIIfTBaftyVNOQQ6n8x1f5xTmOL6%2BsBSVFtXr/S1Y7IlQxWQpyD/I4XVN6%2Ba%2BzfGyqFBto6IuiCIighKwRqNbSDc%2BnvwxE/5vAn//4e9k5GawZuIaggOCL31xz55mEjZ%2BvNkdsV8/WLgQ/vhH8NIvgOJ8hmFwvvg8pwtOczr/dLXrnMLypMq%2BryCH/JL8er2/r7cvwf7BtPI3kyZb4nTxtu34xa%2BVPEmV1AImIiIoAWtUbuh6A1vv2sqY98aw%2BfBmfrP8N3x2%2B2dcHXT1pS/u1w9SUuDBB2H5cnjgAfjHP%2BCtt/TLgtRZYUkhp/JPcbrgtLnOP13ptX37ouSqPsUjrF5Wgv2D7QlTcMCFbT9zu5Vfq/J9VSzqticNrqgITpww/6jVvr2roxERERdSAtbI9OvQj%2B%2Bmf8fo90azP3M/g5cNZsN/b6B/WP9LX9yyJSxbZhbkuPtu%2BOor6N0bXn0VbrvtygcvbsnWGnUq/5R9yc7PdnhdcbElVKfyT3G%2B%2BHyd3zfAGkBwQDDB/sH2ZCnYv4rXF86xJVrB/sEE%2BgSqYIS4l4wMcx0WpkmYRUSaOP0UaISuDrqaf037F7d8cAtfH/6aIW8P4cPxHzKm25ja3eCmm8yxYDNmmOXqb78dPv7YTMRat76ywcsVVVhSSHZ%2BNtnns%2B1JVPb5bHtSlX0%2Bm1MF5fts%2B%2Bs6JsrqZaV1QGuC/YNpHdDa3A4IprV/a3uyZNt38XatxjCKeAp1PxQRkQuUgDVSQf5BbLxjIzM%2BnsHKPStJWJXA4tGLmRU/q3Y3aNfOTLqWLTO7I37wAWzZAn/5i5mY%2BemXY1cyDIO8ojyyzmfZE6eK29n5lV9nn8/mXPG5Or2fn7cfIYEhtA5oTUhAiD2psu2ragn2D6a5b3O1RImACnCIiIidErBGzNfblxU3r6BTUCf%2B39b/x%2BxPZvPxfz5mZv%2BZjOk6Bh9vn5pvYLGYydawYTBlCnz7Ldx3HyxYAI8/DtOnKxFrAIZhkFuUS9b5LDNpqpBM2ffZEqrz5fvqMkbK2%2BJNSGAIIQEh5esLCdXFCVbF1wE%2Bmh9OpF7UAiYiIhcoAWvkLBYLzwx7hqtbXc2cT%2Bfw2U%2Bf8dlPn9G%2BeXvuiruLGf1m0CW4S803iYyEbdtg7Vr461/hhx9gzhxITIQnnoBp05SIXWBrmaqYPF28VHWspKzkst8r0CeQkIAQ2gS2cUimQgIv7KuYZF1Yt/RrqRYpEVdQC5iIiFygBKyJmN5vOjf1uIl3dr/DGzvf4GDWQRK/SSTxm0RGdB7B3f3u5uYeN1c/7sbLC269FcaNMxOx%2BfNh7164997yROyuuxpVImYYBueKz1XbKlVdMlWX8VLNfJrRJrCNPZlqE9iGNgEVti8kVBWTLbVKiXiQCi1gxcXFpKenU1BQ4NqYpEb%2B/v5ERETg43OJ3iIiIpfJYhiG4eogpPbi4%2BNJTk6u1z0Mw%2BBfR//FGzvf4MN9H1JQYv4SEOwfzMDwgfRt35e49nH07dCXqNZRVc9nVFYGa9aYLWJ795r72reHqVPNFrFu3eoVY0OzlUOvqnqffYzUReOl6lp8wt/qT2hgqENCFRoYak%2BgLl5CAkNU9lyahIZ4fnka%2B2fu3x927oTvviOtbVtatGhBSEiIWqTdlGEYZGdnk5ubS%2BfOnV0djojLNMXntjMoAfMwDf0PIacgh7/v%2BTtv7HyD3Sd2VzrezKcZfdr3Ia5dHDFtY2jXrB2hzUIJDQwltFkorf2C8Fq7Dp55xuyaaPPb35pjxMaPh2bN6hVjSVkJ54rOkVuUy5mCM5wtPGtfzhSar88UnDHnjyq4MClvvuN2XSfmtXXzq7IlqkKLlC3hCgkMIdAnsF6fV6Sxaoo/yO2fuV07OHkS0tM5cPYsPXr0UPLl5gzD4ODBg0RHR7s6FBGXaYrPbWdQF8QmLsg/iDkD53DvgHtJy0kj5dcUdh3fRcoJc52Rm8G3R7/l26PfVnm9l8WLNoFtCJ0VSqui3vicyMT315P4FG3D97Nt%2BHw%2BA9%2BOnfDp2h3ahFJcVkxJWYl9sb0uLi0mvySf88XnKy11LYFekdXLai8uUXEJCQghOCC48lgqdfMTkYZSWGgmX97eZk%2BBs2eVfHkA/TcSkStFCZgA5g%2BaLsFd6BLchVuib7HvzzyXScqvKaT8mkLqqVQyz2eSeS6Tk%2BdOknk%2Bk5yCHE6eO8nJcyfNC/yBThXvXAL8BBk/QUbdYvOyeNHMpxkt/Vo6LK38W9HSt/x1VRPy2rab%2BTTTD1MRcY2KkzB7e7s2FiAnJ4f33nuPe%2B%2B997KvHT16NO%2B99x5BQUF1eu/ExESWLVuGt7c3r7zyCtdff32lczZt2sTDDz9MUVER/fv3Z9myZVitVtavX89TTz2Fl5cXVquVl156iWuvvZYjR44wbtw4ysrKKC4u5o9//COzZjlOuZKQkMDPP//M3gtd5lNSUpg1axYFBQVYrVZeffVVBg4cWKfPJCJyuZSASY1Cm4UyMnIkIyNHVnm8qLSIrPNZZJ7LJLcol%2BLSYopKiyguu7D%2BJY2ir7%2BiePs3WM7mYi0DnzKwNm%2BJtf8ArIP/C59%2B8Vj9mxHgE0CgTyCBPoE082lm3/b19lXyJCKey81K0Ofk5PDqq69WmYCVlJRgtVb/q8Gnn35a5/fdv38/q1atYt%2B%2BfRw7dozf//73/Pjjj3hXSErLysqYOnUqX331Fd26dWPevHmsWLGC6dOnM2LECBISErBYLOzZs4eJEydy8OBBOnTowPbt2/Hz8yMvL49evXqRkJBAWFgYAGvWrKF58%2BYOscydO5enn36aG264gU8//ZS5c%2BeyefPmOn82EZHLoQRM6sXX25ewFmGEtQir%2BoRo4PqHoKTEnEds/XpYtw72/gzffQWLv4LAQLjuOhg1ypxzrGtXcw4yEZHGwM0SsMcee4xDhw4RFxfHyJEjGTNmDE899RTBwcEcPHiQH3/8kZtvvpmjR49SUFDA/fffz8yZMwHo1KkTycnJ5OXlccMNN3Dttdfy7bffEh4ezvr16wkIqL7b9vr165k8eTJ%2Bfn507tyZqKgokpKSuOaaa%2BznZGdn4%2BvrS7cLhZxGjhxJYmIi06dPd0iizp07Z//DnK%2Bvr31/YWEhZWVl9td5eXm8%2BOKLLF26lIkTJ9r3pLIi/wAAGI5JREFUWywWzp49C8CZM2fsyZqIiDNUUd5O5AqwWmHIEPjf/4WffjILdjz7LMTHw/nzZlI2axZ0727%2BkjJlCrz9Nhw54urIRUTqx83mAFuwYAGRkZGkpKTw/PPPA7Bz505efvllfvzxRwCWL1/Ojh07SE5O5pVXXiE7O7vSfVJTU5kzZw779u0jKCiIjz76CIAlS5awZMmSSudnZGTQsUISGhERQUaGY9/0Nm3aUFJSYh/0v3r1ao7aElhg7dq19OjRgzFjxrB8%2BXL7/qNHjxIbG0vHjh159NFH7QnVU089xUMPPURgoGNxpJdeeolHHnmEjh078vDDD5OYmFj7L1BEpJ6UgInzWSzQqxc8%2BSR8/7351%2BElS2DiRAgNNcdLrFxpzivWqZM5EfSMGbB8Oezfb5bAFxHxFDW1gFksV2a5TAMHDnQot/7KK6/Qp08fBg8ezNGjR0lNTa10TefOnYmLiwOgf//%2BHD58GIBZs2ZVGoNVWxaLhVWrVvHggw8ycOBAWrRo4dBFcdy4cRw8eJB169bx1FNP2fd37NiRPXv28NNPP7FixQpOnDhBSkoKhw4dYty4cZXe57XXXuNvf/sbR48e5W9/%2BxvTp0%2BvU7wiInWhLojiehERcM895lJWBvv2wddfw6ZNsHkz/PyzuSxbZp7fsiUMHAiDB5vLoEHQpo1LP4KISLXcrAWsKs0qTBeyefNmvvzyS7Zv305gYCBDhw6tctJoPz8/%2B7a3tzf5%2BTVP9xEeHu7QmpWenk54eHil86655hq2bdsGwD//%2BU97q1xFQ4YM4eeffyYrK4s2FZ7/YWFh9OrVi23btpGZmUlycjKdOnWipKSEkydPMnToUDZv3syKFSt4%2BeWXAZgwYQIzZsyoMXYRkYakFjBxL15e0Ls3/OlPZrfE7GxIToYXXoAJE8y/IJ89C19%2BaXZhHDvWbDWLjDTnHHv2WdiwwfyFR1PciYg7qKkFzDCuzFKDFi1akJubW%2B3xM2fOEBwcTGBgIAcPHuS7776rz6e3S0hIYNWqVRQWFpKWlkZqamqVlQdPnjSr6hYWFrJw4UJ7a9pPP/2EberSnTt3UlhYSEhICOnp6fbk7/Tp03zzzTd0796d2bNnc%2BzYMQ4fPsw333xDt27d7IU2wsLC2LJlC2BWXezatWuDfEYRkdpQC5i4N29v6N/fXGyOHYN//xu%2B%2B85cvv%2B%2BvJXswhgEAEJCIC7OXGJjISYGevSo98TQIuL%2BNm7cyP33309paSkzZszgscceczh%2B5MgRpk2bRmZmJq1bt%2Bbdd98l4kIL1ahRo/juu%2B%2B49tpr2bBhg/2atLQ0Jk%2BeTHZ2Nv3792flypUOBSCqZUvA3KQFLCQkhN/85jf06tWLG264gTFjxjgcHzVqFEuWLCE6Opru3bszePDgy7q/bfzXxd0QY2JimDhxIj179sRqtbJ48WJ798LRo0fz5ptvEhYWxvPPP8%2BGDRsoKytj9uzZDB8%2BHICPPvqId955Bx8fHwICAvjggw%2BwWCwcOHCAhx56CIvFgmEYPPzww/Tu3bvGGN944w3uv/9%2BSkpK8Pf3Z%2BnSpZf1GUVE6sNiGGom8CSakbwKJSXm2LDduyElpXw5darq8zt1gp49HZcePaBVK6eGLdLUOOv5VVpaSrdu3fjiiy%2BIiIhgwIABvP/%2B%2B/Ts2dN%2BzoQJExg7dixTp05l06ZNvPXWW6xcuRKAr776ivPnz/P66687JGATJ07klltuYfLkycyaNYs%2Bffowe/bsGmOJ79%2Bf5J07zUJEBQXg7c2BAweIjo6%2BMh9eGpT%2BW0lTp987rwy1gInns1rNFq7YWLjzTnOfYZjdEFNSYNcuc1zZvn3w449w%2BLC5XDyfTWioWQK/WzdzbVuiouCiOWRExH0lJSURFRVFly5dAJg8eTLr1693SMD279/Piy%2B%2BCMCwYcO4%2Beab7cdGjBhRaU4owzDYtGkT7733HgBTp05l/vz5l0zAKCoy1%2BHhbjEJs4iIuJ4SMGmcLBZzvEXHjnDjjeX7i4vh0CGzxcy27NsHqamQmWku335b%2BX7t2kGXLtC5c%2BV1RIR%2BsRJxI1WVO//3v//tcE6fPn1Ys2YN999/P2vXriU3N5fs7GxCQkKqvGd2djZBQUH2SYqrKqFeJVsC5ibdD0VExPWUgNXTpcYZvPjii7z55ptYrVZCQ0NZvnw5V199NWBWjbL1U7/qqqv4%2BOOPnR5/k%2BPjY3Y37NEDbrmlfH9ZmTm2LDXVbCVLTS1fDh2CEyfMZfv2yve0Ws1frq6%2BGq66qnyp%2BFrjzkTcygsvvMB9993H22%2B/zZAhQwgPD3cod14fS5cutY8pyrXNn%2BUmkzCLiIjrKQGrh9LSUubMmeMwziAhIcGhm0vfvn1JTk4mMDCQ1157jblz5/LBBx8AEBAQQEpKiqvCl4q8vMwkKiIChg1zPFZaaiZnaWlmoY%2BL18ePl3drrE5QkNkFKSKi6nWHDmYpfS8VJhWpr9qUOw8LC2PNmjUA5OXl8dFHHxEUFFTtPUNCQsjJyaGkpASr1VptCXWAmTNnMnPmTADibeeoBUxERC5QAlYPtRlnMKzCL/ODBw/m3XffdXqcUk/e3uXdGYcMqXw8P98cb/bLL%2BXLkSOOr3NyzGXfvurfx2o1uzqGhZkJWcWlXTtzad/eXAcEXLnPK%2BLhBgwYQGpqKmlpaYSHh7Nq1Sr72C2brKwsWrdujZeXF4mJiUybNq3Ge1osFoYNG8bq1auZPHkyK1as4Kabbrp0MMXF5lotYCIicoESsHqozTiDipYtW8YNN9xgf11QUEB8fDxWq5XHHnvMYRC4eJCAgPKCHVUxDLMiY3o6ZGSYa9v20aNmC9qxY%2BY5GRnmciktWpQnY%2B3amQVE2rZ1XGz7goM1Rk2aFKvVyqJFi7j%2B%2BuspLS1l2rRpxMTEMG/ePOLj40lISGDz5s08/vjjWCwWhgwZwuLFi%2B3X//a3v%2BXgwYPk5eURERHBsmXLuP7661m4cCGTJ0/mL3/5C3379mX69OmXDsY2BkwJmIiIXKAEzEneffddkpOT7RM/gjkPTXh4OD///DPDhw%2Bnd%2B/eREZGVrq24niCzMxMp8UsDcRiMeckCwmBPn2qP6%2BgAH791UzIbEnZ8ePmPtsYNNt2bq65pKZe%2Bv29vKB1a7OLY5s2ZmJm227Tpjy2iktQkJI28WijR49m9OjRDvueeeYZ%2B/b48eMZP358lddu27atyv1dunQhKSnp8gJpJEU4mjdvTl5eHseOHeNPf/oTq1evrnTO0KFDeeGFF4iPj6/2PoWFhUyZMoUdO3YQEhLCBx98QKdOnSqd9/LLL/PGG29gGAZ33303DzzwAACPPPII//jHP/D19SUyMpK33nqLoKAgkpKS7N0%2BDcNg/vz5jBs3rsZ7iYi4ihKweqjNOAOAL7/8kueee44tW7bg5%2BfncD2YP9SHDh3Krl27qkzAHMYT1PCDTTycv785R1kVv4w4MAyzO6MtGTt50qzeePJk%2BVLx9enTkJVlLrVlsZgtZyEhZvLWurX52rZdcd/Fi79/fb4FkcalkbWAhYWFVZl81dayZcsIDg7mp59%2BYtWqVTz66KP2cdE2e/fu5Y033iApKQlfX19GjRrF2LFjiYqKYuTIkSQmJmK1Wnn00UdJTExk4cKF9OrVi%2BTkZKxWK8ePH6dPnz7ceOONHDx4sNp7iYi4ihKweqjNOINdu3Zxzz33sHHjRtq2bWvff/r0aQIDA/Hz8yMrK4t//etfzJ0719kfQTyRLTkKDobaTBBaUgLZ2eVJWGam43Z2trmcOlW%2BnZNjvq5uMuua%2BPuXxxcUVP3SqpW5XLzt729%2BRpHGoLTUrL5a4fnvao899hgdO3Zkzpw5AMyfP5/mzZsza9YsbrrpJk6fPk1xcTHPPvtspXFuhw8fZuzYsezdu5f8/Hzuuusudu/eTY8ePcjPz7/ke69fv5758%2BcDZivkfffdh2EYWCr8mz9w4ACDBg0iMDAQgN/97nesWbOGuXPnct1119nPGzx4sD0ZtJ0LZvd%2B2/1qupeIiKsoAauH2owzeOSRR8jLy2PChAlAebn5AwcOcM899%2BDl5UVZWRmPPfaYQ/EOkQZjK%2B7Rrl3trykpMVvOsrPNtS0Zq7jYErXTpx2XgoLybpR14eNTnpC1agUtW5pLddsVlxYtyrf9/JTIiXsID3erCqeTJk3igQcesCdgH374IZ9//jn%2B/v6sXbuWli1bkpWVxeDBg0lISHBIjip67bXXCAwM5MCBA%2BzZs4d%2B/frZj82YMYNZs2ZV6rVRcey01WqlVatWZGdn06ZNG/s5vXr14sknnyQ7O5uAgAA%2B/fTTKnt/LF%2B%2BnEmTJtlf//vf/2batGkcOXKElStXYrVaa30vERFnUgJWT5caZ/Dll19Wed1//dd/8cMPP1zR2ETqzGo1x4qFhl7edYYB58%2BXJ2NnzpRXgKxqOXOm/BzbdmHh5XeZrO4ztGhRebElas2bl%2B%2BzbVe1ti0BAUropG5q6H5o%2BeuV%2BX/KeNqo9ljfvn05efIkx44dIzMzk%2BDgYDp27EhxcTFPPPEEW7duxcvLi4yMDE6cOEH79u2rvM/WrVv505/%2BBEBsbCyxsbH2Y2%2B%2B%2BWadY4%2BOjubRRx/luuuuo1mzZsTFxVWao%2B25557DarVy%2B%2B232/cNGjSIffv2ceDAAaZOncoNN9xQq3uJiDibEjARaTgWiznpdLNmdS86UFBQnoydPWsutu2K6zNnyouR2M6ruF1UVJ4INtRnq5iQNWtW9dq2faklMLB828dHyV1j5oYFOCZMmMDq1av59ddf7a1If//738nMzGTHjh34%2BPjQqVMnCgoKGvR9bWOnIyIiKCkp4cyZM4SEhFQ6b/r06fYqk0888QQRFb7Dt99%2Bmw0bNvDVV19V2ToXHR1N8%2BbN2bt3L/Hx8TXeS0TEFZSAiYh78fc3l8vpMlmVoqLyhMyWqFVc8vIc1xdvnztnvrYt%2Bfnlxxqat3flxCwwsPJ2xdcBAY77bYttf1VrN%2BoG16TU0AJWU0vVlTRp0iTuvvtusrKy7NV5z5w5Q9u2bfHx8eHrr7/myJEjNd5jyJAhvPfeewwfPpy9e/eyZ8%2BeS75vQkICK1as4JprrmH16tUMHz68yiTq5MmTtG3bll9%2B%2BYU1a9bw3XffAbBx40b%2B53/%2Bhy1btjiM%2B0pLS6Njx45YrVaOHDnCwYMH7dUVq7uXiIirKAETkcbJ17e8rH5DKC0tT8psCZrt9cVr23ZVS16e2U2z4r7S0vKWuyvJz89MxKpabElaQICZAFd3nu1YxXMu3mdLov39NZ0BuGULWExMDLm5uYSHh9OhQwcAbr/9dm688UZ69%2B5NfHw8PXr0qPEes2fP5q677iI6Opro6Gj69%2B9vP1bdGLDp06dz5513EhUVRevWrVm1ahUAx44dY8aMGXz66acA3HrrrWRnZ%2BPj48PixYsJCgoC4L777qOwsJCRI0cCZiGOJUuW8M0337BgwQJ8fHzw8vLi1VdftY8rq%2B5eIiKuYjEMwzV/fpM6iY%2BPJzk52dVhiEhDKipyTMrOny9fqnqdn%2B%2B47%2BLFdrziuhYV6q4IHx97MhZ/1VVN7vkVb7GQvHYt3Hyzfd%2BBAweIrk0FU3E5/beSpk6/d14ZagETEXE1X19zuZJ/mTcMc3xdxYSsNktBQdWva1rblvx8KC42l9xcuOqqK/f53FkjmQNMREQahhIwEZGmwGIp7zLoLIZhJl%2B2ZGzMGOe9t7uIiTEXERGRC5SAiYjIlWGxlLfutWzp6mhcwzYWTkRE5AKVxBIREXEyDb92f/pvJCJXihIwERERJ/L39yc7O1u/4LsxwzDIzs7GX62XInIFqAuiiIiIE0VERJCenk5mZqarQ5Ea%2BPv7a9JmEbkilICJiIg4kY%2BPD507d3Z1GCIi4iLqgigiIiIiIuIkSsBEREREREScRAmYiIiIiIiIk1gMlWHyKM2bN6dHjx6uDqNKmZmZhIaGujqMKim2ulFsdaPYqnb48GGysrJc8t6uomd23Si2ulFsdaPYqtcUn9vOoCIcHqZHjx4kJye7OowqxcfHK7Y6UGx1o9jqxp1ja4z0zK4bxVY3iq1uFJs4m7ogioiIiIiIOIkSMBERERERESfxnj9//nxXByGXp3///q4OoVqKrW4UW90otrpx59gaI3f%2BvhVb3Si2ulFsdePOsUndqAiHiIiIiIiIk6gLooiIiIiIiJMoAfMgGzdupHv37kRFRbFgwQJXh%2BOgU6dO9O7dm7i4OOLj410ay7Rp02jbti29evWy7zt16hQjR46ka9eujBw5ktOnT7tNbPPnzyc8PJy4uDji4uL49NNPXRLb0aNHGTZsGD179iQmJoaXX34ZcP13V11c7vK9FRQUMHDgQPr06UNMTAxPP/00AGlpaQwaNIioqCgmTZpEUVGR28T2hz/8gc6dO9u/u5SUFKfH1hTomV07embXjbs%2Bs2uKzR2%2BOz2zxS0Y4hFKSkqMLl26GIcOHTIKCwuN2NhYY9%2B%2Bfa4Oy%2B7qq682MjMzXR2GYRiGsWXLFmPHjh1GTEyMfd8jjzxiJCYmGoZhGImJicbcuXPdJrann37aeP75510ST0XHjh0zduzYYRiGYZw9e9bo2rWrsW/fPpd/d9XF5S7fW1lZmZGbm2sYhmEUFRUZAwcONLZv325MmDDBeP/99w3DMIx77rnHePXVV90mtqlTpxr/93//5/R4mhI9s2tPz%2By6cddndk2xucN3p2e2uAO1gHmIpKQkoqKi6NKlC76%2BvkyePJn169e7Oiy3NGTIEFq3bu2wb/369UydOhWAqVOnsm7dOleEVmVs7qJDhw7069cPgBYtWhAdHU1GRobLv7vq4nIXFouF5s2bA1BcXExxcTEWi4VNmzYxfvx4wHX/z1UXm1x5embXnp7ZdeOuz%2ByaYnMHemaLO1AC5iEyMjLo2LGj/XVERITbPMzAfGhcd9119O/fn6VLl7o6nEpOnDhBhw4dAGjfvj0nTpxwcUSOFi1aRGxsLNOmTXNZV5uKDh8%2BzK5duxg0aJBbfXcV4wL3%2Bd5KS0uJi4ujbdu2jBw5ksjISIKCgrBazbnuXfnv9eLYbN/dk08%2BSWxsLA8%2B%2BCCFhYUuia0x0zO7ftzpuVMVd3n22LjrM/vi2MA9vjs9s8XVlIBJg/jmm2/YuXMnn332GYsXL2br1q2uDqlaFovFrf6iNHv2bA4dOkRKSgodOnTgoYcecmk8eXl53Hrrrbz00ku0bNnS4Zgrv7uL43Kn783b25uUlBTS09NJSkri4MGDLovlYhfHtnfvXhITEzl48CDff/89p06dYuHCha4OU5xMz%2By6c6dnD7jvMxvc97mtZ7a4mhIwDxEeHs7Ro0ftr9PT0wkPD3dhRI5ssbRt25Zx48aRlJTk4ogctWvXjuPHjwNw/Phx2rZt6%2BKIyrVr1w5vb2%2B8vLy4%2B%2B67XfrdFRcXc%2Butt3L77bdzyy232ONz9XdXXVzu8r3ZBAUFMWzYMLZv305OTg4lJSWAe/x7tcW2ceNGOnTogMViwc/Pj7vuusstvrvGRs/s%2BnGH50513OnZ467P7Jpic5fvDvTMFtdRAuYhBgwYQGpqKmlpaRQVFbFq1SoSEhJcHRYA586dIzc31779z3/%2B06FilDtISEhgxYoVAKxYsYKbbrrJxRGVs/2gBFi7dq3LvjvDMJg%2BfTrR0dH8%2Bc9/tu939XdXXVzu8r1lZmaSk5MDQH5%2BPl988QXR0dEMGzaM1atXA677f66q2Hr06GH/7gzDYN26dW7377Ux0DO7flz93KmJuzx73PWZXVNs7vDd6ZktbsGVFUDk8nzyySdG165djS5duhjPPvusq8OxO3TokBEbG2vExsYaPXv2dHlskydPNtq3b29YrVYjPDzcePPNN42srCxj%2BPDhRlRUlDFixAgjOzvbbWK74447jF69ehm9e/c2brzxRuPYsWMuiW3btm0GYPTu3dvo06eP0adPH%2BOTTz5x%2BXdXXVzu8r3t3r3biIuLM3r37m3ExMQYf/3rXw3DMP9dDBgwwIiMjDTGjx9vFBQUuE1sw4YNM3r16mXExMQYt99%2Bu73qljQsPbNrR8/sunHXZ3ZNsbnDd6dntrgDi2EYhmtTQBERERERkaZBXRBFREREREScRAmYiIiIiIiIkygBExERERERcRIlYCIiIiIiIk6iBExERERERMRJlICJiIiIiIg4iRIwERERERERJ1ECJiIiIiIi4iRKwERERERERJxECZiIiIiIiIiTKAETERERERFxEiVgIiIiIiIiTqIETERERERExEmUgImIiIiIiDiJEjAREREREREnUQImIiIiIiLiJErAREREREREnEQJmIiIiIiIiJMoARMREREREXESJWAiIiIiIiJO8v8BR1hAnMF/2B4AAAAASUVORK5CYII%3D\">"
      ]
     },
     "metadata": {},
     "output_type": "display_data"
    }
   ],
   "source": [
    "s.run(tf.global_variables_initializer())\n",
    "\n",
    "summary_writer = tf.summary.FileWriter(\"digits_logs/1\", s.graph)\n",
    "\n",
    "BATCH_SIZE = 512\n",
    "EPOCHS = 40\n",
    "\n",
    "# for logging the progress right here in Jupyter (for those who don't have TensorBoard)\n",
    "simpleTrainingCurves = matplotlib_utils.SimpleTrainingCurves(\"cross-entropy\", \"accuracy\")\n",
    "\n",
    "for epoch in range(EPOCHS):  # we finish an epoch when we've looked at all training samples\n",
    "    \n",
    "    batch_losses = []\n",
    "    for batch_start in range(0, X_train_flat.shape[0], BATCH_SIZE):  # data is already shuffled\n",
    "        _, batch_loss = s.run([step, loss], {input_X: X_train_flat[batch_start:batch_start+BATCH_SIZE], \n",
    "                                             input_y: y_train_oh[batch_start:batch_start+BATCH_SIZE]})\n",
    "        # collect batch losses, this is almost free as we need a forward pass for backprop anyway\n",
    "        batch_losses.append(batch_loss)\n",
    "       #summary_writer.add_summary(batch_loss, epoch)\n",
    "        summary_writer.flush()\n",
    "\n",
    "    train_loss = np.mean(batch_losses)\n",
    "    val_loss = s.run(loss, {input_X: X_val_flat, input_y: y_val_oh})  # this part is usually small\n",
    "    train_accuracy = accuracy_score(y_train, s.run(classes, {input_X: X_train_flat}))  # this is slow and usually skipped\n",
    "    valid_accuracy = accuracy_score(y_val, s.run(classes, {input_X: X_val_flat}))  \n",
    "    simpleTrainingCurves.add(train_loss, val_loss, train_accuracy, valid_accuracy)\n",
    "\n",
    "        "
   ]
  },
  {
   "cell_type": "markdown",
   "metadata": {},
   "source": [
    "# Submit a linear model"
   ]
  },
  {
   "cell_type": "code",
   "execution_count": 34,
   "metadata": {},
   "outputs": [],
   "source": [
    "## GRADED PART, DO NOT CHANGE!\n",
    "# Testing shapes \n",
    "grader.set_answer(\"9XaAS\", grading_utils.get_tensors_shapes_string([W, b, input_X, input_y, logits, probas, classes]))\n",
    "# Validation loss\n",
    "grader.set_answer(\"vmogZ\", s.run(loss, {input_X: X_val_flat, input_y: y_val_oh}))\n",
    "# Validation accuracy\n",
    "grader.set_answer(\"RMv95\", accuracy_score(y_val, s.run(classes, {input_X: X_val_flat})))"
   ]
  },
  {
   "cell_type": "code",
   "execution_count": 35,
   "metadata": {},
   "outputs": [
    {
     "name": "stdout",
     "output_type": "stream",
     "text": [
      "Submitted to Coursera platform. See results on assignment page!\n"
     ]
    }
   ],
   "source": [
    "# you can make submission with answers so far to check yourself at this stage\n",
    "grader.submit(COURSERA_EMAIL, COURSERA_TOKEN)"
   ]
  },
  {
   "cell_type": "markdown",
   "metadata": {},
   "source": [
    "# MLP with hidden layers"
   ]
  },
  {
   "cell_type": "markdown",
   "metadata": {},
   "source": [
    "Previously we've coded a dense layer with matrix multiplication by hand. \n",
    "But this is not convenient, you have to create a lot of variables and your code becomes a mess. \n",
    "In TensorFlow there's an easier way to make a dense layer:\n",
    "```python\n",
    "hidden1 = tf.layers.dense(inputs, 256, activation=tf.nn.sigmoid)\n",
    "```\n",
    "\n",
    "That will create all the necessary variables automatically.\n",
    "Here you can also choose an activation function (remember that we need it for a hidden layer!).\n",
    "\n",
    "Now define the MLP with 2 hidden layers and restart training with the cell above.\n",
    "\n",
    "You're aiming for ~0.97 validation accuracy here."
   ]
  },
  {
   "cell_type": "code",
   "execution_count": 15,
   "metadata": {},
   "outputs": [],
   "source": [
    "# write the code here to get a new `step` operation and then run the cell with training loop above.\n",
    "# name your variables in the same way (e.g. logits, probas, classes, etc) for safety.\n",
    "### YOUR CODE HERE ###\n",
    "# Two chained hiddern layers: input_X -> hidden1 -> hidden2 -> logits (out)\n",
    "hidden1 = tf.layers.dense(input_X, 256, activation=tf.nn.sigmoid)\n",
    "hidden2 = tf.layers.dense(hidden1, 256, activation=tf.nn.sigmoid)\n",
    "logits = tf.layers.dense(hidden2, 10)\n",
    "probas = tf.nn.softmax(logits)\n",
    "classes = tf.argmax(probas, axis=1)\n",
    "loss = tf.reduce_mean(tf.nn.softmax_cross_entropy_with_logits(labels=input_y, logits=logits))\n",
    "step=tf.train.AdamOptimizer().minimize(loss)"
   ]
  },
  {
   "cell_type": "markdown",
   "metadata": {},
   "source": [
    "# Submit the MLP with 2 hidden layers\n",
    "Run these cells after training the MLP with 2 hidden layers"
   ]
  },
  {
   "cell_type": "code",
   "execution_count": 17,
   "metadata": {},
   "outputs": [],
   "source": [
    "## GRADED PART, DO NOT CHANGE!\n",
    "# Validation loss for MLP\n",
    "grader.set_answer(\"i8bgs\", s.run(loss, {input_X: X_val_flat, input_y: y_val_oh}))\n",
    "# Validation accuracy for MLP\n",
    "grader.set_answer(\"rE763\", accuracy_score(y_val, s.run(classes, {input_X: X_val_flat})))"
   ]
  },
  {
   "cell_type": "code",
   "execution_count": 18,
   "metadata": {},
   "outputs": [
    {
     "name": "stdout",
     "output_type": "stream",
     "text": [
      "Submitted to Coursera platform. See results on assignment page!\n"
     ]
    }
   ],
   "source": [
    "# you can make submission with answers so far to check yourself at this stage\n",
    "grader.submit(COURSERA_EMAIL, COURSERA_TOKEN)"
   ]
  },
  {
   "cell_type": "code",
   "execution_count": null,
   "metadata": {},
   "outputs": [],
   "source": []
  }
 ],
 "metadata": {
  "kernelspec": {
   "display_name": "Python 3",
   "language": "python",
   "name": "python3"
  },
  "language_info": {
   "codemirror_mode": {
    "name": "ipython",
    "version": 3
   },
   "file_extension": ".py",
   "mimetype": "text/x-python",
   "name": "python",
   "nbconvert_exporter": "python",
   "pygments_lexer": "ipython3",
   "version": "3.7.3"
  }
 },
 "nbformat": 4,
 "nbformat_minor": 4
}
